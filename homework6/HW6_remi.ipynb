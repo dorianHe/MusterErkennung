{
 "cells": [
  {
   "cell_type": "code",
   "execution_count": 229,
   "metadata": {
    "collapsed": true,
    "deletable": true,
    "editable": true
   },
   "outputs": [],
   "source": [
    "## Muster Erkennung  ub 6 "
   ]
  },
  {
   "cell_type": "code",
   "execution_count": 230,
   "metadata": {
    "collapsed": false,
    "deletable": true,
    "editable": true
   },
   "outputs": [],
   "source": [
    "import numpy as np \n",
    "import pandas as pd \n",
    "\n",
    "# read data \n",
    "url='./iris.data'\n",
    "data= pd.read_csv( url ,header= None) \n",
    "data.columns=['sepal_length','sepal_width','petal_length', 'petal_width','class']"
   ]
  },
  {
   "cell_type": "code",
   "execution_count": 231,
   "metadata": {
    "collapsed": false,
    "deletable": true,
    "editable": true
   },
   "outputs": [
    {
     "data": {
      "text/html": [
       "<div>\n",
       "<table border=\"1\" class=\"dataframe\">\n",
       "  <thead>\n",
       "    <tr style=\"text-align: right;\">\n",
       "      <th></th>\n",
       "      <th>sepal_length</th>\n",
       "      <th>sepal_width</th>\n",
       "      <th>petal_length</th>\n",
       "      <th>petal_width</th>\n",
       "      <th>class</th>\n",
       "    </tr>\n",
       "  </thead>\n",
       "  <tbody>\n",
       "    <tr>\n",
       "      <th>0</th>\n",
       "      <td>5.1</td>\n",
       "      <td>3.5</td>\n",
       "      <td>1.4</td>\n",
       "      <td>0.2</td>\n",
       "      <td>Iris-setosa</td>\n",
       "    </tr>\n",
       "    <tr>\n",
       "      <th>1</th>\n",
       "      <td>4.9</td>\n",
       "      <td>3.0</td>\n",
       "      <td>1.4</td>\n",
       "      <td>0.2</td>\n",
       "      <td>Iris-setosa</td>\n",
       "    </tr>\n",
       "    <tr>\n",
       "      <th>2</th>\n",
       "      <td>4.7</td>\n",
       "      <td>3.2</td>\n",
       "      <td>1.3</td>\n",
       "      <td>0.2</td>\n",
       "      <td>Iris-setosa</td>\n",
       "    </tr>\n",
       "    <tr>\n",
       "      <th>3</th>\n",
       "      <td>4.6</td>\n",
       "      <td>3.1</td>\n",
       "      <td>1.5</td>\n",
       "      <td>0.2</td>\n",
       "      <td>Iris-setosa</td>\n",
       "    </tr>\n",
       "    <tr>\n",
       "      <th>4</th>\n",
       "      <td>5.0</td>\n",
       "      <td>3.6</td>\n",
       "      <td>1.4</td>\n",
       "      <td>0.2</td>\n",
       "      <td>Iris-setosa</td>\n",
       "    </tr>\n",
       "  </tbody>\n",
       "</table>\n",
       "</div>"
      ],
      "text/plain": [
       "   sepal_length  sepal_width  petal_length  petal_width        class\n",
       "0           5.1          3.5           1.4          0.2  Iris-setosa\n",
       "1           4.9          3.0           1.4          0.2  Iris-setosa\n",
       "2           4.7          3.2           1.3          0.2  Iris-setosa\n",
       "3           4.6          3.1           1.5          0.2  Iris-setosa\n",
       "4           5.0          3.6           1.4          0.2  Iris-setosa"
      ]
     },
     "execution_count": 231,
     "metadata": {},
     "output_type": "execute_result"
    }
   ],
   "source": [
    "data.head(5)"
   ]
  },
  {
   "cell_type": "code",
   "execution_count": 232,
   "metadata": {
    "collapsed": false,
    "deletable": true,
    "editable": true
   },
   "outputs": [],
   "source": [
    "X=data.drop('class', axis=1)\n",
    "y= data['class']\n",
    "data= data.values"
   ]
  },
  {
   "cell_type": "code",
   "execution_count": 233,
   "metadata": {
    "collapsed": false,
    "deletable": true,
    "editable": true
   },
   "outputs": [
    {
     "name": "stdout",
     "output_type": "stream",
     "text": [
      "(150, 4) (30, 4)\n",
      "(150, 5) (30, 5)\n"
     ]
    }
   ],
   "source": [
    "# split data  test/ training \n",
    "from sklearn.model_selection import train_test_split\n",
    "X_train, X_test, y_train, y_test = train_test_split(X, y, test_size = 0.2, random_state = 1)\n",
    "print (X.shape, X_test.shape)\n",
    "\n",
    "# add a column of 1 \n",
    "offset= np.ones(X.shape[0])\n",
    "X= np.column_stack((offset,X))\n",
    "\n",
    "offset_test= np.ones(X_test.shape[0])\n",
    "X_test= np.column_stack((offset_test,X_test))\n",
    "print (X.shape, X_test.shape)"
   ]
  },
  {
   "cell_type": "code",
   "execution_count": 234,
   "metadata": {
    "collapsed": false
   },
   "outputs": [
    {
     "data": {
      "text/plain": [
       "(30, 5)"
      ]
     },
     "execution_count": 234,
     "metadata": {},
     "output_type": "execute_result"
    }
   ],
   "source": [
    "X_test.shape"
   ]
  },
  {
   "cell_type": "code",
   "execution_count": 235,
   "metadata": {
    "collapsed": false,
    "deletable": true,
    "editable": true
   },
   "outputs": [],
   "source": [
    "def percetron(X,y ):\n",
    "    # labels names\n",
    "    labels= list(set(y))\n",
    "    \n",
    "    # init vector : random points of the data\n",
    "    percetron_vector=  np.array(X[np.random.randint(X.shape[0]),:])\n",
    "    \n",
    "    for line in range(X.shape[0]):\n",
    "        data_point= X[line,:]\n",
    "        \n",
    "        scl_prodct=np.dot(percetron_vector,data_point)\n",
    "            \n",
    "        #class1: 'Iris-versicolor' (positiv)\n",
    "        if (y[line] == labels[0]) and (scl_prodct  > 0): \n",
    "           #update/ corection\n",
    "            percetron_vector=  percetron_vector + data_point \n",
    "            \n",
    "            \n",
    "         # classe 2 (negativ)\n",
    "        elif   (y[line] == labels[1]) and (scl_prodct  < 0):\n",
    "            percetron_vector=  percetron_vector - data_point \n",
    "        \n",
    "    percetron_vector= np.array(percetron_vector)\n",
    "    return( percetron_vector)\n",
    "\n"
   ]
  },
  {
   "cell_type": "code",
   "execution_count": 241,
   "metadata": {
    "collapsed": false,
    "deletable": true,
    "editable": true
   },
   "outputs": [
    {
     "data": {
      "text/plain": [
       "array([  51. ,  255.1,  174.3,   75.1,   12.4])"
      ]
     },
     "execution_count": 241,
     "metadata": {},
     "output_type": "execute_result"
    }
   ],
   "source": [
    "trennt_line= percetron(X,y)\n",
    "trennt_line\n"
   ]
  },
  {
   "cell_type": "code",
   "execution_count": 242,
   "metadata": {
    "collapsed": false,
    "deletable": true,
    "editable": true
   },
   "outputs": [],
   "source": [
    "def predict (percetron_vector, X_test):\n",
    "    \n",
    "    results= []\n",
    "    for point in range(X_test.shape[0]):\n",
    "        result= np.dot(percetron_vector,X_test[point,:])\n",
    "        if result>0 : \n",
    "            result='class1' \n",
    "        else:   result='class2'\n",
    "        results.append(result)\n",
    "    return results\n"
   ]
  },
  {
   "cell_type": "code",
   "execution_count": 243,
   "metadata": {
    "collapsed": false,
    "deletable": true,
    "editable": true
   },
   "outputs": [
    {
     "data": {
      "text/plain": [
       "['class1',\n",
       " 'class1',\n",
       " 'class1',\n",
       " 'class1',\n",
       " 'class1',\n",
       " 'class1',\n",
       " 'class1',\n",
       " 'class1',\n",
       " 'class1',\n",
       " 'class1',\n",
       " 'class1',\n",
       " 'class1',\n",
       " 'class1',\n",
       " 'class1',\n",
       " 'class1',\n",
       " 'class1',\n",
       " 'class1',\n",
       " 'class1',\n",
       " 'class1',\n",
       " 'class1',\n",
       " 'class1',\n",
       " 'class1',\n",
       " 'class1',\n",
       " 'class1',\n",
       " 'class1',\n",
       " 'class1',\n",
       " 'class1',\n",
       " 'class1',\n",
       " 'class1',\n",
       " 'class1']"
      ]
     },
     "execution_count": 243,
     "metadata": {},
     "output_type": "execute_result"
    }
   ],
   "source": [
    "predict(trennt_line,X_test )"
   ]
  }
 ],
 "metadata": {
  "kernelspec": {
   "display_name": "Python 3",
   "language": "python",
   "name": "python3"
  },
  "language_info": {
   "codemirror_mode": {
    "name": "ipython",
    "version": 3
   },
   "file_extension": ".py",
   "mimetype": "text/x-python",
   "name": "python",
   "nbconvert_exporter": "python",
   "pygments_lexer": "ipython3",
   "version": "3.5.2"
  }
 },
 "nbformat": 4,
 "nbformat_minor": 2
}
