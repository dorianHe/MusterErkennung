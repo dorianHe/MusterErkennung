{
 "cells": [
  {
   "cell_type": "code",
   "execution_count": 78,
   "metadata": {},
   "outputs": [],
   "source": [
    "import numpy as np\n",
    "import pandas as pd\n",
    "from sklearn.model_selection import train_test_split\n",
    "import matplotlib.pyplot as plt"
   ]
  },
  {
   "cell_type": "code",
   "execution_count": 79,
   "metadata": {},
   "outputs": [],
   "source": [
    "% matplotlib inline"
   ]
  },
  {
   "cell_type": "code",
   "execution_count": 80,
   "metadata": {},
   "outputs": [],
   "source": [
    "np.random.seed(11)"
   ]
  },
  {
   "cell_type": "code",
   "execution_count": 81,
   "metadata": {},
   "outputs": [],
   "source": [
    "df = pd.read_csv('./iris.data', header=None)"
   ]
  },
  {
   "cell_type": "code",
   "execution_count": 82,
   "metadata": {
    "scrolled": true
   },
   "outputs": [
    {
     "data": {
      "text/html": [
       "<div>\n",
       "<style>\n",
       "    .dataframe thead tr:only-child th {\n",
       "        text-align: right;\n",
       "    }\n",
       "\n",
       "    .dataframe thead th {\n",
       "        text-align: left;\n",
       "    }\n",
       "\n",
       "    .dataframe tbody tr th {\n",
       "        vertical-align: top;\n",
       "    }\n",
       "</style>\n",
       "<table border=\"1\" class=\"dataframe\">\n",
       "  <thead>\n",
       "    <tr style=\"text-align: right;\">\n",
       "      <th></th>\n",
       "      <th>0</th>\n",
       "      <th>1</th>\n",
       "      <th>2</th>\n",
       "      <th>3</th>\n",
       "      <th>4</th>\n",
       "    </tr>\n",
       "  </thead>\n",
       "  <tbody>\n",
       "    <tr>\n",
       "      <th>0</th>\n",
       "      <td>5.1</td>\n",
       "      <td>3.5</td>\n",
       "      <td>1.4</td>\n",
       "      <td>0.2</td>\n",
       "      <td>Iris-setosa</td>\n",
       "    </tr>\n",
       "    <tr>\n",
       "      <th>1</th>\n",
       "      <td>4.9</td>\n",
       "      <td>3.0</td>\n",
       "      <td>1.4</td>\n",
       "      <td>0.2</td>\n",
       "      <td>Iris-setosa</td>\n",
       "    </tr>\n",
       "    <tr>\n",
       "      <th>2</th>\n",
       "      <td>4.7</td>\n",
       "      <td>3.2</td>\n",
       "      <td>1.3</td>\n",
       "      <td>0.2</td>\n",
       "      <td>Iris-setosa</td>\n",
       "    </tr>\n",
       "    <tr>\n",
       "      <th>3</th>\n",
       "      <td>4.6</td>\n",
       "      <td>3.1</td>\n",
       "      <td>1.5</td>\n",
       "      <td>0.2</td>\n",
       "      <td>Iris-setosa</td>\n",
       "    </tr>\n",
       "    <tr>\n",
       "      <th>4</th>\n",
       "      <td>5.0</td>\n",
       "      <td>3.6</td>\n",
       "      <td>1.4</td>\n",
       "      <td>0.2</td>\n",
       "      <td>Iris-setosa</td>\n",
       "    </tr>\n",
       "  </tbody>\n",
       "</table>\n",
       "</div>"
      ],
      "text/plain": [
       "     0    1    2    3            4\n",
       "0  5.1  3.5  1.4  0.2  Iris-setosa\n",
       "1  4.9  3.0  1.4  0.2  Iris-setosa\n",
       "2  4.7  3.2  1.3  0.2  Iris-setosa\n",
       "3  4.6  3.1  1.5  0.2  Iris-setosa\n",
       "4  5.0  3.6  1.4  0.2  Iris-setosa"
      ]
     },
     "execution_count": 82,
     "metadata": {},
     "output_type": "execute_result"
    }
   ],
   "source": [
    "df.head()"
   ]
  },
  {
   "cell_type": "code",
   "execution_count": 83,
   "metadata": {},
   "outputs": [],
   "source": [
    "data = df.as_matrix()"
   ]
  },
  {
   "cell_type": "code",
   "execution_count": 84,
   "metadata": {
    "scrolled": false
   },
   "outputs": [
    {
     "data": {
      "text/plain": [
       "(150, 5)"
      ]
     },
     "execution_count": 84,
     "metadata": {},
     "output_type": "execute_result"
    }
   ],
   "source": [
    "data.shape"
   ]
  },
  {
   "cell_type": "code",
   "execution_count": 85,
   "metadata": {},
   "outputs": [],
   "source": [
    "data_setosa = data[data[:,4] == 'Iris-setosa']\n",
    "data_versicolor = data[data[:,4] == 'Iris-versicolor']\n",
    "data_virginica = data[data[:,4] == 'Iris-virginica']"
   ]
  },
  {
   "cell_type": "code",
   "execution_count": 86,
   "metadata": {},
   "outputs": [
    {
     "name": "stdout",
     "output_type": "stream",
     "text": [
      "(50, 5)\n",
      "(50, 5)\n"
     ]
    }
   ],
   "source": [
    "print data_setosa.shape\n",
    "print data_versicolor.shape"
   ]
  },
  {
   "cell_type": "markdown",
   "metadata": {},
   "source": [
    "# Aufgabe 1 Perzeptron"
   ]
  },
  {
   "cell_type": "code",
   "execution_count": 87,
   "metadata": {},
   "outputs": [],
   "source": [
    "class Perceptron:\n",
    "        \n",
    "    def fit(self, X, y):\n",
    "        self.w = np.random.rand(X.shape[1])\n",
    "        mistake_lst = self._find_mistake(X, y)\n",
    "        \n",
    "        while len(mistake_lst) > 0:\n",
    "            for index in mistake_lst:\n",
    "                if not self._check_one(X, index, y):\n",
    "                    self._update_w(X, index, y)\n",
    "                else:\n",
    "                    continue\n",
    "            mistake_lst = self._find_mistake(X, y)\n",
    "      \n",
    "    \n",
    "    def _check_one(self, X, index,y):\n",
    "        if X[index].dot(self.w)*y[index] > 0:\n",
    "            return True\n",
    "        else:\n",
    "            return False\n",
    "    \n",
    "    def _update_w(self, X, index, y):\n",
    "        self.w = self.w + X[index]*y[index]\n",
    "    \n",
    "    def _predict_one(self, x):\n",
    "        return x.dot(self.w)\n",
    "    \n",
    "    def _find_mistake(self, X, y):\n",
    "        mistake_lst = []\n",
    "        \n",
    "        for i in range(len(X)):\n",
    "            prediction = self._predict_one(X[i])\n",
    "            if prediction*y[i] < 0:\n",
    "                mistake_lst.append(i)\n",
    "        return mistake_lst\n",
    "                \n",
    "    def predict(self, X):\n",
    "        result = X.dot(self.w)\n",
    "        result[result > 0] = 1\n",
    "        result[result < 0] = -1\n",
    "        \n",
    "        return result\n",
    "    \n",
    "    def score(self, X, y):\n",
    "        result = X.dot(self.w).reshape(y.shape) * y\n",
    "        print result.shape\n",
    "        return np.mean(result > 0)"
   ]
  },
  {
   "cell_type": "code",
   "execution_count": 88,
   "metadata": {},
   "outputs": [],
   "source": [
    "X = np.concatenate((data_setosa[:,:4], data_versicolor[:,:4]))\n",
    "X = np.concatenate((np.ones((X.shape[0],1)), X), axis = 1)\n",
    "y_setosa = -1 * np.ones((50,1))\n",
    "y_versicolor = 1 * np.ones((50,1))\n",
    "\n",
    "y = np.concatenate((y_setosa, y_versicolor), axis = 0)"
   ]
  },
  {
   "cell_type": "code",
   "execution_count": 89,
   "metadata": {},
   "outputs": [],
   "source": [
    "X_train, X_test, y_train, y_test = train_test_split(X,y, test_size = 0.2, random_state = 11)"
   ]
  },
  {
   "cell_type": "code",
   "execution_count": 90,
   "metadata": {},
   "outputs": [],
   "source": [
    "c = Perceptron()"
   ]
  },
  {
   "cell_type": "code",
   "execution_count": 91,
   "metadata": {
    "scrolled": true
   },
   "outputs": [],
   "source": [
    "c.fit(X_train, y_train)"
   ]
  },
  {
   "cell_type": "code",
   "execution_count": 92,
   "metadata": {
    "scrolled": false
   },
   "outputs": [
    {
     "data": {
      "text/plain": [
       "array([-1, -1, -1, 1, -1, 1, 1, -1, -1, 1, 1, 1, 1, 1, -1, -1, 1, -1, -1, 1], dtype=object)"
      ]
     },
     "execution_count": 92,
     "metadata": {},
     "output_type": "execute_result"
    }
   ],
   "source": [
    "c.predict(X_test)"
   ]
  },
  {
   "cell_type": "code",
   "execution_count": 93,
   "metadata": {
    "scrolled": true
   },
   "outputs": [
    {
     "name": "stdout",
     "output_type": "stream",
     "text": [
      "(20, 1)\n"
     ]
    },
    {
     "data": {
      "text/plain": [
       "1.0"
      ]
     },
     "execution_count": 93,
     "metadata": {},
     "output_type": "execute_result"
    }
   ],
   "source": [
    "c.score(X_test, y_test)"
   ]
  },
  {
   "cell_type": "markdown",
   "metadata": {},
   "source": [
    "# Aufgabe 2 Pocket Perzeptron"
   ]
  },
  {
   "cell_type": "code",
   "execution_count": 125,
   "metadata": {},
   "outputs": [],
   "source": [
    "class PocketPerceptron():\n",
    "    def fit(self, X, y, num_iterations = 1000):\n",
    "        self.w = np.random.rand(X.shape[1])\n",
    "        mistake_lst = self._find_mistake(X, y)\n",
    "        \n",
    "        counter = 0\n",
    "        while len(mistake_lst) > 0 and counter < num_iterations:\n",
    "            for index in mistake_lst:\n",
    "                tmp_w = self.w + X[index]*y[index]\n",
    "                if self._check_all(X, self.w, y) >= self._check_all(X, tmp_w, y):\n",
    "                    self._update_w(X, index, y)\n",
    "            counter += 1\n",
    "            mistake_lst = self._find_mistake(X, y)\n",
    "\n",
    "    \n",
    "    def _check_one(self, X, index,y):\n",
    "        if X[index].dot(self.w)*y[index] > 0:\n",
    "            return True\n",
    "        else:\n",
    "            return False\n",
    "        \n",
    "    def _check_all(self, X, weight, y):\n",
    "        return np.sum(X.dot(weight).reshape(y.shape)*y < 0)\n",
    "    \n",
    "    \n",
    "    def _update_w(self, X, index, y):\n",
    "        self.w = self.w + X[index]*y[index]\n",
    "    \n",
    "    def _predict_one(self, x):\n",
    "        return x.dot(self.w)\n",
    "    \n",
    "    def _find_mistake(self, X, y):\n",
    "        mistake_lst = []\n",
    "        \n",
    "        for i in range(len(X)):\n",
    "            prediction = self._predict_one(X[i])\n",
    "            if prediction*y[i] < 0:\n",
    "                mistake_lst.append(i)\n",
    "        return mistake_lst\n",
    "                \n",
    "    def predict(self, X):\n",
    "        result = X.dot(self.w)\n",
    "        result[result > 0] = 1\n",
    "        result[result < 0] = -1\n",
    "        \n",
    "        return result\n",
    "    \n",
    "    def score(self, X, y):\n",
    "        result = X.dot(self.w).reshape(y.shape) * y\n",
    "        print result.shape\n",
    "        return np.mean(result > 0)"
   ]
  },
  {
   "cell_type": "code",
   "execution_count": 126,
   "metadata": {},
   "outputs": [],
   "source": [
    "X = np.concatenate((data_versicolor[:,:4], data_virginica[:,:4]))\n",
    "X = np.concatenate((np.ones((X.shape[0],1)), X), axis = 1)\n",
    "y_versicolor = -1 * np.ones((50,1))\n",
    "y_virginica = 1 * np.ones((50,1))\n",
    "\n",
    "y = np.concatenate((y_versicolor, y_virginica), axis = 0)"
   ]
  },
  {
   "cell_type": "code",
   "execution_count": 127,
   "metadata": {},
   "outputs": [],
   "source": [
    "X_train, X_test, y_train, y_test = train_test_split(X, y, test_size = 0.2, random_state = 11)"
   ]
  },
  {
   "cell_type": "code",
   "execution_count": 128,
   "metadata": {},
   "outputs": [],
   "source": [
    "pc = PocketPerceptron()"
   ]
  },
  {
   "cell_type": "code",
   "execution_count": 129,
   "metadata": {
    "scrolled": true
   },
   "outputs": [],
   "source": [
    "pc.fit(X_train,y_train)"
   ]
  },
  {
   "cell_type": "code",
   "execution_count": 130,
   "metadata": {},
   "outputs": [
    {
     "name": "stdout",
     "output_type": "stream",
     "text": [
      "(20, 1)\n"
     ]
    },
    {
     "data": {
      "text/plain": [
       "0.80000000000000004"
      ]
     },
     "execution_count": 130,
     "metadata": {},
     "output_type": "execute_result"
    }
   ],
   "source": [
    "pc.score(X_test, y_test)"
   ]
  },
  {
   "cell_type": "code",
   "execution_count": null,
   "metadata": {},
   "outputs": [],
   "source": []
  }
 ],
 "metadata": {
  "kernelspec": {
   "display_name": "Python 2",
   "language": "python",
   "name": "python2"
  },
  "language_info": {
   "codemirror_mode": {
    "name": "ipython",
    "version": 2
   },
   "file_extension": ".py",
   "mimetype": "text/x-python",
   "name": "python",
   "nbconvert_exporter": "python",
   "pygments_lexer": "ipython2",
   "version": "2.7.14"
  }
 },
 "nbformat": 4,
 "nbformat_minor": 2
}
