{
 "cells": [
  {
   "cell_type": "code",
   "execution_count": 1,
   "metadata": {},
   "outputs": [],
   "source": [
    "from collections import Counter\n",
    "import numpy as np\n",
    "import pandas as pd\n",
    "from sklearn.metrics import confusion_matrix\n",
    "import matplotlib.pyplot as plt"
   ]
  },
  {
   "cell_type": "code",
   "execution_count": 2,
   "metadata": {},
   "outputs": [],
   "source": [
    "%matplotlib inline"
   ]
  },
  {
   "cell_type": "code",
   "execution_count": 3,
   "metadata": {},
   "outputs": [],
   "source": [
    "def read_preprocess(filename):\n",
    "    f = open(filename)\n",
    "    raw_data = f.readlines()\n",
    "    \n",
    "    point_lst = []\n",
    "    for ele in raw_data:\n",
    "        point = []\n",
    "        for value in ele.split():\n",
    "            point.append(float(value))\n",
    "        point_lst.append(point)\n",
    "        \n",
    "    return np.array(point_lst)"
   ]
  },
  {
   "cell_type": "code",
   "execution_count": 4,
   "metadata": {},
   "outputs": [],
   "source": [
    "filename = './zip.train'\n",
    "training_array = read_preprocess(filename)"
   ]
  },
  {
   "cell_type": "code",
   "execution_count": 5,
   "metadata": {},
   "outputs": [],
   "source": [
    "filename = './zip.test'\n",
    "testing_array = read_preprocess(filename)"
   ]
  },
  {
   "cell_type": "code",
   "execution_count": 6,
   "metadata": {},
   "outputs": [],
   "source": [
    "X_train = training_array[:,1:]\n",
    "Y_train = training_array[:,0]\n",
    "\n",
    "X_test = testing_array[:,1:]\n",
    "Y_test = testing_array[:, 0]"
   ]
  },
  {
   "cell_type": "code",
   "execution_count": 7,
   "metadata": {
    "scrolled": false
   },
   "outputs": [
    {
     "name": "stdout",
     "output_type": "stream",
     "text": [
      "(7291, 256)\n",
      "(7291,)\n",
      "(2007, 256)\n",
      "(2007,)\n"
     ]
    }
   ],
   "source": [
    "print X_train.shape\n",
    "print Y_train.shape\n",
    "print X_test.shape\n",
    "print Y_test.shape"
   ]
  },
  {
   "cell_type": "code",
   "execution_count": 8,
   "metadata": {},
   "outputs": [],
   "source": [
    "def dist(X_test , X_train):\n",
    "    dist_lst = []\n",
    "    for point in X_test:\n",
    "        dist_lst.append(np.sum(np.power(point - X_train, 2), axis = 1))\n",
    "    return np.array(dist_lst)"
   ]
  },
  {
   "cell_type": "code",
   "execution_count": 9,
   "metadata": {},
   "outputs": [],
   "source": [
    "def knn(k, dist_lst):\n",
    "    \n",
    "    prediction = []\n",
    "    \n",
    "    index = np.argsort(dist_lst)\n",
    "    \n",
    "    knn_points =  index[:, :k]\n",
    "    \n",
    "    for row in Y_train[knn_points]:\n",
    "        prediction.append(Counter(row).most_common(1)[0][0])\n",
    "    \n",
    "    return np.array(prediction)"
   ]
  },
  {
   "cell_type": "code",
   "execution_count": 10,
   "metadata": {
    "scrolled": true
   },
   "outputs": [],
   "source": [
    "dist_lst = dist(X_test, X_train)"
   ]
  },
  {
   "cell_type": "code",
   "execution_count": 11,
   "metadata": {
    "scrolled": true
   },
   "outputs": [],
   "source": [
    "kone_predictions = knn(1, dist_lst)\n",
    "ktwo_predictions = knn(2, dist_lst)\n",
    "kthree_predictions = knn(3, dist_lst)"
   ]
  },
  {
   "cell_type": "code",
   "execution_count": 13,
   "metadata": {
    "scrolled": true
   },
   "outputs": [
    {
     "data": {
      "text/plain": [
       "array([[ 0.989,  0.   ,  0.01 ,  0.   ,  0.   ,  0.   ,  0.   ,  0.007,\n",
       "         0.   ,  0.006],\n",
       "       [ 0.   ,  0.966,  0.   ,  0.   ,  0.03 ,  0.   ,  0.012,  0.007,\n",
       "         0.   ,  0.   ],\n",
       "       [ 0.017,  0.004,  0.924,  0.012,  0.005,  0.   ,  0.   ,  0.014,\n",
       "         0.018,  0.   ],\n",
       "       [ 0.008,  0.   ,  0.01 ,  0.928,  0.   ,  0.031,  0.   ,  0.   ,\n",
       "         0.   ,  0.011],\n",
       "       [ 0.   ,  0.011,  0.005,  0.   ,  0.91 ,  0.006,  0.012,  0.014,\n",
       "         0.006,  0.045],\n",
       "       [ 0.006,  0.004,  0.01 ,  0.024,  0.   ,  0.906,  0.012,  0.   ,\n",
       "         0.018,  0.006],\n",
       "       [ 0.   ,  0.   ,  0.005,  0.   ,  0.01 ,  0.019,  0.965,  0.   ,\n",
       "         0.   ,  0.   ],\n",
       "       [ 0.   ,  0.004,  0.005,  0.006,  0.02 ,  0.   ,  0.   ,  0.946,\n",
       "         0.   ,  0.006],\n",
       "       [ 0.014,  0.   ,  0.005,  0.036,  0.005,  0.006,  0.   ,  0.007,\n",
       "         0.892,  0.017],\n",
       "       [ 0.   ,  0.   ,  0.005,  0.   ,  0.01 ,  0.   ,  0.   ,  0.027,\n",
       "         0.006,  0.955]])"
      ]
     },
     "execution_count": 13,
     "metadata": {},
     "output_type": "execute_result"
    }
   ],
   "source": [
    "kone_confusion_matrix= confusion_matrix(Y_test, kone_predictions)\n",
    "np.around(kone_confusion_matrix/np.sum(kone_confusion_matrix, axis = 1, dtype='float'), decimals=3)"
   ]
  },
  {
   "cell_type": "code",
   "execution_count": 14,
   "metadata": {
    "scrolled": true
   },
   "outputs": [
    {
     "data": {
      "text/plain": [
       "array([[ 0.989,  0.   ,  0.015,  0.   ,  0.   ,  0.   ,  0.   ,  0.   ,\n",
       "         0.   ,  0.006],\n",
       "       [ 0.   ,  0.981,  0.   ,  0.   ,  0.015,  0.   ,  0.006,  0.007,\n",
       "         0.   ,  0.   ],\n",
       "       [ 0.028,  0.004,  0.899,  0.006,  0.005,  0.   ,  0.   ,  0.014,\n",
       "         0.03 ,  0.   ],\n",
       "       [ 0.008,  0.   ,  0.01 ,  0.928,  0.   ,  0.019,  0.   ,  0.   ,\n",
       "         0.012,  0.011],\n",
       "       [ 0.   ,  0.011,  0.02 ,  0.   ,  0.865,  0.006,  0.012,  0.014,\n",
       "         0.006,  0.079],\n",
       "       [ 0.011,  0.004,  0.01 ,  0.048,  0.   ,  0.856,  0.   ,  0.   ,\n",
       "         0.024,  0.023],\n",
       "       [ 0.011,  0.   ,  0.005,  0.   ,  0.01 ,  0.012,  0.941,  0.   ,\n",
       "         0.006,  0.   ],\n",
       "       [ 0.   ,  0.008,  0.005,  0.006,  0.02 ,  0.   ,  0.   ,  0.905,\n",
       "         0.006,  0.028],\n",
       "       [ 0.014,  0.   ,  0.015,  0.006,  0.   ,  0.006,  0.   ,  0.007,\n",
       "         0.922,  0.011],\n",
       "       [ 0.003,  0.   ,  0.005,  0.   ,  0.01 ,  0.   ,  0.   ,  0.027,\n",
       "         0.006,  0.949]])"
      ]
     },
     "execution_count": 14,
     "metadata": {},
     "output_type": "execute_result"
    }
   ],
   "source": [
    "ktwo_confusion_matrix= confusion_matrix(Y_test, ktwo_predictions)\n",
    "np.around(ktwo_confusion_matrix/np.sum(ktwo_confusion_matrix, axis = 1, dtype='float'), decimals= 3)"
   ]
  },
  {
   "cell_type": "code",
   "execution_count": 15,
   "metadata": {
    "scrolled": true
   },
   "outputs": [
    {
     "data": {
      "text/plain": [
       "array([[ 0.989,  0.   ,  0.01 ,  0.   ,  0.   ,  0.   ,  0.   ,  0.   ,\n",
       "         0.006,  0.006],\n",
       "       [ 0.   ,  0.977,  0.   ,  0.   ,  0.015,  0.   ,  0.012,  0.007,\n",
       "         0.   ,  0.   ],\n",
       "       [ 0.022,  0.   ,  0.924,  0.006,  0.005,  0.   ,  0.   ,  0.014,\n",
       "         0.018,  0.   ],\n",
       "       [ 0.008,  0.   ,  0.01 ,  0.922,  0.   ,  0.038,  0.   ,  0.007,\n",
       "         0.   ,  0.006],\n",
       "       [ 0.   ,  0.008,  0.   ,  0.   ,  0.91 ,  0.012,  0.012,  0.014,\n",
       "         0.006,  0.051],\n",
       "       [ 0.014,  0.   ,  0.015,  0.018,  0.   ,  0.9  ,  0.   ,  0.   ,\n",
       "         0.006,  0.023],\n",
       "       [ 0.008,  0.004,  0.005,  0.   ,  0.01 ,  0.   ,  0.959,  0.   ,\n",
       "         0.   ,  0.   ],\n",
       "       [ 0.   ,  0.004,  0.005,  0.006,  0.02 ,  0.   ,  0.   ,  0.939,\n",
       "         0.006,  0.006],\n",
       "       [ 0.011,  0.   ,  0.005,  0.024,  0.   ,  0.006,  0.   ,  0.007,\n",
       "         0.916,  0.017],\n",
       "       [ 0.003,  0.   ,  0.   ,  0.   ,  0.015,  0.   ,  0.   ,  0.027,\n",
       "         0.006,  0.949]])"
      ]
     },
     "execution_count": 15,
     "metadata": {},
     "output_type": "execute_result"
    }
   ],
   "source": [
    "kthree_confusion_matrix= confusion_matrix(Y_test, kthree_predictions)\n",
    "np.around(kthree_confusion_matrix/np.sum(kthree_confusion_matrix, axis = 1, dtype='float'), decimals= 3)"
   ]
  },
  {
   "cell_type": "code",
   "execution_count": null,
   "metadata": {},
   "outputs": [],
   "source": []
  }
 ],
 "metadata": {
  "kernelspec": {
   "display_name": "Python 2",
   "language": "python",
   "name": "python2"
  },
  "language_info": {
   "codemirror_mode": {
    "name": "ipython",
    "version": 2
   },
   "file_extension": ".py",
   "mimetype": "text/x-python",
   "name": "python",
   "nbconvert_exporter": "python",
   "pygments_lexer": "ipython2",
   "version": "2.7.14"
  }
 },
 "nbformat": 4,
 "nbformat_minor": 2
}
