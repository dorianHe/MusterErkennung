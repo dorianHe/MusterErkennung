{
 "cells": [
  {
   "cell_type": "markdown",
   "metadata": {},
   "source": [
    "# Mustererkennung Aufgabe 2"
   ]
  },
  {
   "cell_type": "code",
   "execution_count": 66,
   "metadata": {},
   "outputs": [],
   "source": [
    "import numpy as np"
   ]
  },
  {
   "cell_type": "code",
   "execution_count": 67,
   "metadata": {},
   "outputs": [],
   "source": [
    "# function to load the data and preprocess the data\n",
    "def read_preprocess(filename):\n",
    "    f = open(filename)\n",
    "    raw_data = f.readlines()\n",
    "    \n",
    "    point_lst = []\n",
    "    for ele in raw_data:\n",
    "        point = []\n",
    "        for value in ele.split():\n",
    "            point.append(float(value))\n",
    "        point_lst.append(point)\n",
    "        \n",
    "    return np.array(point_lst)"
   ]
  },
  {
   "cell_type": "code",
   "execution_count": 68,
   "metadata": {
    "scrolled": true
   },
   "outputs": [],
   "source": [
    "filename = './zip.train'\n",
    "training_array = read_preprocess(filename)"
   ]
  },
  {
   "cell_type": "code",
   "execution_count": 69,
   "metadata": {},
   "outputs": [],
   "source": [
    "filename = './zip.test'\n",
    "testing_array = read_preprocess(filename)"
   ]
  },
  {
   "cell_type": "markdown",
   "metadata": {},
   "source": [
    "# for getting digit 3,5,7,8"
   ]
  },
  {
   "cell_type": "code",
   "execution_count": 70,
   "metadata": {},
   "outputs": [],
   "source": [
    "train_digit_three = training_array[:,0] - 3 == 0\n",
    "train_digit_five = training_array[:,0] - 5 == 0\n",
    "train_digit_seven = training_array[:,0] - 7 == 0\n",
    "train_digit_eight = training_array[:,0] - 8 == 0"
   ]
  },
  {
   "cell_type": "code",
   "execution_count": 71,
   "metadata": {},
   "outputs": [],
   "source": [
    "train_dict = {3:train_digit_three, 5:train_digit_five, 7:train_digit_seven, 8:train_digit_eight}"
   ]
  },
  {
   "cell_type": "code",
   "execution_count": 72,
   "metadata": {},
   "outputs": [],
   "source": [
    "test_digit_three = testing_array[:,0] - 3 == 0\n",
    "test_digit_five = testing_array[:,0] - 5 == 0\n",
    "test_digit_seven = testing_array[:,0] - 7 == 0\n",
    "test_digit_eight = testing_array[:,0] - 8 == 0"
   ]
  },
  {
   "cell_type": "code",
   "execution_count": 73,
   "metadata": {},
   "outputs": [],
   "source": [
    "test_dict = {3:test_digit_three, 5:test_digit_five, 7:test_digit_seven, 8:test_digit_eight}"
   ]
  },
  {
   "cell_type": "code",
   "execution_count": 74,
   "metadata": {},
   "outputs": [],
   "source": [
    "def gen_trainset(digit_one, digit_two, train):\n",
    "    digit_one_array = train[train_dict[digit_one]]\n",
    "    digit_two_array = train[train_dict[digit_two]]\n",
    "    train_set = np.concatenate((digit_one_array, digit_two_array), axis = 0)\n",
    "    X = train_set[:,1:]\n",
    "    Y = train_set[:,0]\n",
    "   \n",
    "    num_data = X.shape[0]\n",
    "    bias = np.ones((num_data,1))\n",
    "    X = np.concatenate((bias, X), axis = 1)\n",
    "\n",
    "    return X, Y\n",
    "\n",
    "\n",
    "def gen_testset(digit_one, digit_two, test):\n",
    "    digit_one_array = test[test_dict[digit_one]]\n",
    "    digit_two_array = test[test_dict[digit_two]]\n",
    "    test_set = np.concatenate((digit_one_array, digit_two_array), axis = 0)  \n",
    "    X = test_set[:,1:]\n",
    "    Y = test_set[:,0]\n",
    "    num_data = X.shape[0]\n",
    "    bias = np.ones((num_data,1))\n",
    "    X = np.concatenate((bias, X), axis = 1)   \n",
    "    \n",
    "    return X,Y\n"
   ]
  },
  {
   "cell_type": "markdown",
   "metadata": {},
   "source": [
    "# classifier definition"
   ]
  },
  {
   "cell_type": "code",
   "execution_count": 75,
   "metadata": {},
   "outputs": [],
   "source": [
    "class linear_regression:        \n",
    "    def fit(self, X,y):\n",
    "        inverse = np.linalg.inv(np.dot(X.T, X))\n",
    "        self.W = np.dot(np.dot(inverse, X.T),y)\n",
    "        \n",
    "        self.bigger = np.sort(np.unique(y))[1]\n",
    "        self.smaller = np.sort(np.unique(y))[0]\n",
    "        self.mean = np.mean(np.unique(y))\n",
    "    \n",
    "    def fit_noise(self, X,y):\n",
    "        X=np.add(0.000001, X)\n",
    "        inverse = np.linalg.inv(np.dot(X.T, X))\n",
    "        self.W = np.dot(np.dot(inverse, X.T),y)\n",
    "        \n",
    "        self.bigger = np.sort(np.unique(y))[1]\n",
    "        self.smaller = np.sort(np.unique(y))[0]\n",
    "        self.mean = np.mean(np.unique(y))\n",
    "        \n",
    "    def predict(self, X):\n",
    "        self.predictions = np.dot(X,self.W)\n",
    "        self.predictions[self.predictions - self.mean >= 0] = self.bigger\n",
    "        self.predictions[self.predictions - self.mean < 0 ] = self.smaller\n",
    "        \n",
    "        return self.predictions\n",
    "    \n",
    "    def score(self, Y):\n",
    "        return np.mean(self.predictions - Y == 0)\n",
    "    \n",
    "    def fit_pseudo(self, X, y):\n",
    "        self.bigger = np.sort(np.unique(y))[1]\n",
    "        self.smaller = np.sort(np.unique(y))[0]\n",
    "        self.mean = np.mean(np.unique(y))\n",
    "        \n",
    "        U,s,V_T = np.linalg.svd(X)\n",
    "        dim1 = U.shape[0]\n",
    "        dim2 = V_T.shape[0]\n",
    "        dim3 = V_T.shape[1]\n",
    "        S = np.zeros((dim1, dim2), dtype=complex)\n",
    "\n",
    "        S[:dim2, :dim3] = np.diag(s)\n",
    "        mask = S != 0\n",
    "        S[mask] = 1 / S[mask]\n",
    "        \n",
    "        pinv = np.dot(np.dot(V_T.T, S.T ), U.T)\n",
    "        self.W = np.dot(pinv, y)        "
   ]
  },
  {
   "cell_type": "markdown",
   "metadata": {},
   "source": [
    "# classifier for digit 3,5"
   ]
  },
  {
   "cell_type": "code",
   "execution_count": 76,
   "metadata": {},
   "outputs": [],
   "source": [
    "X_train, Y_train = gen_trainset(3,5, training_array)"
   ]
  },
  {
   "cell_type": "code",
   "execution_count": 77,
   "metadata": {},
   "outputs": [],
   "source": [
    "X_test, Y_test = gen_testset(3,5, testing_array)"
   ]
  },
  {
   "cell_type": "code",
   "execution_count": 78,
   "metadata": {},
   "outputs": [],
   "source": [
    "lr = linear_regression()"
   ]
  },
  {
   "cell_type": "code",
   "execution_count": 79,
   "metadata": {},
   "outputs": [],
   "source": [
    "lr.fit(X_train, Y_train)"
   ]
  },
  {
   "cell_type": "code",
   "execution_count": 80,
   "metadata": {
    "scrolled": true
   },
   "outputs": [
    {
     "data": {
      "text/plain": [
       "array([ 3.,  3.,  5.,  3.,  3.,  3.,  3.,  3.,  5.,  3.,  3.,  3.,  3.,\n",
       "        3.,  3.,  3.,  3.,  3.,  3.,  3.,  3.,  3.,  3.,  3.,  5.,  3.,\n",
       "        3.,  3.,  3.,  5.,  3.,  3.,  3.,  3.,  3.,  3.,  3.,  3.,  3.,\n",
       "        3.,  3.,  3.,  3.,  3.,  3.,  3.,  5.,  3.,  3.,  3.,  3.,  3.,\n",
       "        3.,  3.,  3.,  5.,  3.,  3.,  3.,  3.,  3.,  3.,  3.,  3.,  3.,\n",
       "        3.,  3.,  3.,  3.,  3.,  3.,  3.,  5.,  3.,  3.,  3.,  5.,  3.,\n",
       "        3.,  3.,  3.,  3.,  3.,  3.,  3.,  3.,  3.,  3.,  3.,  3.,  3.,\n",
       "        3.,  3.,  3.,  3.,  3.,  3.,  3.,  3.,  3.,  3.,  3.,  5.,  3.,\n",
       "        3.,  3.,  3.,  3.,  3.,  3.,  3.,  5.,  3.,  3.,  3.,  3.,  3.,\n",
       "        3.,  3.,  3.,  3.,  3.,  3.,  3.,  3.,  3.,  3.,  3.,  3.,  3.,\n",
       "        3.,  3.,  3.,  3.,  3.,  3.,  3.,  3.,  3.,  3.,  3.,  3.,  3.,\n",
       "        3.,  3.,  3.,  3.,  3.,  5.,  3.,  3.,  3.,  3.,  3.,  3.,  3.,\n",
       "        5.,  3.,  3.,  3.,  3.,  3.,  3.,  3.,  3.,  3.,  5.,  5.,  5.,\n",
       "        5.,  5.,  5.,  5.,  5.,  5.,  5.,  5.,  5.,  5.,  5.,  5.,  5.,\n",
       "        5.,  3.,  5.,  5.,  5.,  5.,  5.,  5.,  5.,  5.,  5.,  5.,  3.,\n",
       "        5.,  5.,  5.,  5.,  5.,  5.,  5.,  5.,  5.,  5.,  5.,  5.,  3.,\n",
       "        5.,  5.,  5.,  5.,  5.,  5.,  5.,  5.,  5.,  5.,  5.,  5.,  5.,\n",
       "        5.,  5.,  5.,  5.,  5.,  5.,  5.,  5.,  3.,  3.,  5.,  5.,  5.,\n",
       "        5.,  5.,  5.,  5.,  5.,  5.,  5.,  5.,  5.,  5.,  5.,  5.,  5.,\n",
       "        5.,  5.,  3.,  5.,  5.,  5.,  5.,  5.,  5.,  3.,  5.,  5.,  3.,\n",
       "        5.,  5.,  5.,  5.,  5.,  5.,  5.,  5.,  5.,  5.,  5.,  5.,  5.,\n",
       "        5.,  5.,  5.,  5.,  5.,  5.,  5.,  5.,  5.,  5.,  5.,  5.,  5.,\n",
       "        5.,  5.,  5.,  3.,  5.,  5.,  5.,  5.,  5.,  5.,  5.,  5.,  5.,\n",
       "        5.,  5.,  5.,  3.,  5.,  5.,  5.,  5.,  5.,  5.,  5.,  5.,  5.,\n",
       "        5.,  5.,  5.,  5.,  5.,  5.,  3.,  5.,  5.,  5.,  5.,  5.,  5.,  5.])"
      ]
     },
     "execution_count": 80,
     "metadata": {},
     "output_type": "execute_result"
    }
   ],
   "source": [
    "lr.predict(X_test)"
   ]
  },
  {
   "cell_type": "code",
   "execution_count": 81,
   "metadata": {},
   "outputs": [
    {
     "data": {
      "text/plain": [
       "0.92944785276073616"
      ]
     },
     "execution_count": 81,
     "metadata": {},
     "output_type": "execute_result"
    }
   ],
   "source": [
    "lr.score(Y_test)"
   ]
  },
  {
   "cell_type": "markdown",
   "metadata": {},
   "source": [
    "# classifier for digit 3,7"
   ]
  },
  {
   "cell_type": "code",
   "execution_count": 82,
   "metadata": {},
   "outputs": [
    {
     "data": {
      "text/plain": [
       "0.9744408945686901"
      ]
     },
     "execution_count": 82,
     "metadata": {},
     "output_type": "execute_result"
    }
   ],
   "source": [
    "X_train, Y_train = gen_trainset(3,7, training_array)\n",
    "X_test, Y_test = gen_testset(3,7, testing_array)\n",
    "lr = linear_regression()\n",
    "lr.fit(X_train, Y_train)\n",
    "lr.predict(X_test)\n",
    "lr.score(Y_test)"
   ]
  },
  {
   "cell_type": "markdown",
   "metadata": {},
   "source": [
    "# classifier for digit 3,8"
   ]
  },
  {
   "cell_type": "code",
   "execution_count": 83,
   "metadata": {},
   "outputs": [
    {
     "data": {
      "text/plain": [
       "0.95180722891566261"
      ]
     },
     "execution_count": 83,
     "metadata": {},
     "output_type": "execute_result"
    }
   ],
   "source": [
    "X_train, Y_train = gen_trainset(3,8, training_array)\n",
    "X_test, Y_test = gen_testset(3,8, testing_array)\n",
    "lr = linear_regression()\n",
    "lr.fit(X_train, Y_train)\n",
    "lr.predict(X_test)\n",
    "lr.score(Y_test)"
   ]
  },
  {
   "cell_type": "markdown",
   "metadata": {},
   "source": [
    "# classifier for digit 5,7"
   ]
  },
  {
   "cell_type": "code",
   "execution_count": 84,
   "metadata": {},
   "outputs": [
    {
     "data": {
      "text/plain": [
       "0.98371335504885993"
      ]
     },
     "execution_count": 84,
     "metadata": {},
     "output_type": "execute_result"
    }
   ],
   "source": [
    "X_train, Y_train = gen_trainset(5,7, training_array)\n",
    "X_test, Y_test = gen_testset(5,7, testing_array)\n",
    "lr = linear_regression()\n",
    "lr.fit(X_train, Y_train)\n",
    "lr.predict(X_test)\n",
    "lr.score(Y_test)"
   ]
  },
  {
   "cell_type": "markdown",
   "metadata": {},
   "source": [
    "# classifier for digit 5,8"
   ]
  },
  {
   "cell_type": "code",
   "execution_count": 85,
   "metadata": {},
   "outputs": [
    {
     "data": {
      "text/plain": [
       "0.96319018404907975"
      ]
     },
     "execution_count": 85,
     "metadata": {},
     "output_type": "execute_result"
    }
   ],
   "source": [
    "X_train, Y_train = gen_trainset(5,8, training_array)\n",
    "X_test, Y_test = gen_testset(5,8, testing_array)\n",
    "lr = linear_regression()\n",
    "lr.fit(X_train, Y_train)\n",
    "lr.predict(X_test)\n",
    "lr.score(Y_test)"
   ]
  },
  {
   "cell_type": "markdown",
   "metadata": {},
   "source": [
    "# classifier for digit 7,8\n",
    "Because with digit 7,8 the absulote value of determinant of matrix `X_train.T * X_train` is very large, correspondingly the determinant of the inverse matrix is very small. We should use the pesudoinverse matrix in this case."
   ]
  },
  {
   "cell_type": "code",
   "execution_count": 86,
   "metadata": {},
   "outputs": [
    {
     "name": "stdout",
     "output_type": "stream",
     "text": [
      "-1.27661932209e+296\n",
      "2.67573154642e-284\n"
     ]
    },
    {
     "data": {
      "text/plain": [
       "0.91373801916932906"
      ]
     },
     "execution_count": 86,
     "metadata": {},
     "output_type": "execute_result"
    }
   ],
   "source": [
    "# using svd to calculate the pesudo inverse\n",
    "X_train, Y_train = gen_trainset(7,8, training_array)\n",
    "X_test, Y_test = gen_testset(7,8, testing_array)\n",
    "\n",
    "print (np.linalg.det(np.dot(X_train.T, X_train)))\n",
    "print (np.linalg.det(np.linalg.inv(np.dot(X_train.T, X_train))))\n",
    "\n",
    "lr = linear_regression()\n",
    "lr.fit_pseudo(X_train, Y_train)\n",
    "lr.predict(X_test)\n",
    "lr.score(Y_test)"
   ]
  },
  {
   "cell_type": "code",
   "execution_count": null,
   "metadata": {},
   "outputs": [],
   "source": []
  }
 ],
 "metadata": {
  "kernelspec": {
   "display_name": "Python 3",
   "language": "python",
   "name": "python3"
  },
  "language_info": {
   "codemirror_mode": {
    "name": "ipython",
    "version": 3
   },
   "file_extension": ".py",
   "mimetype": "text/x-python",
   "name": "python",
   "nbconvert_exporter": "python",
   "pygments_lexer": "ipython3",
   "version": "3.5.2"
  }
 },
 "nbformat": 4,
 "nbformat_minor": 2
}
