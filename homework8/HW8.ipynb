{
 "cells": [
  {
   "cell_type": "markdown",
   "metadata": {
    "deletable": true,
    "editable": true
   },
   "source": [
    "#  MusterErkennung Blatt 8 "
   ]
  },
  {
   "cell_type": "markdown",
   "metadata": {
    "deletable": true,
    "editable": true
   },
   "source": [
    " ##  import Digit Dataset"
   ]
  },
  {
   "cell_type": "code",
   "execution_count": 119,
   "metadata": {
    "collapsed": true,
    "deletable": true,
    "editable": true
   },
   "outputs": [],
   "source": [
    "import pandas as pd \n",
    "import numpy as np\n",
    "df= pd.read_csv( 'zip.train' ,header= None, sep= '\\s',engine='python' )"
   ]
  },
  {
   "cell_type": "markdown",
   "metadata": {
    "collapsed": false,
    "deletable": true,
    "editable": true
   },
   "source": [
    "## 1) Covariance Matrix "
   ]
  },
  {
   "cell_type": "code",
   "execution_count": 120,
   "metadata": {
    "collapsed": false,
    "deletable": true,
    "editable": true
   },
   "outputs": [],
   "source": [
    "# a little preprocessing before... \n",
    "shapeDF=df.shape\n",
    "dimension= shapeDF[1]-1\n",
    "\n",
    "#split data table into data X and class labels y\n",
    "X = df.ix[:,1:(dimension)].values\n",
    "y = df.ix[:,0].values\n",
    "\n",
    "\n",
    "# normalize with function mentioned in excercise class\n",
    "from sklearn.preprocessing import StandardScaler\n",
    "X_std = StandardScaler().fit_transform(X)\n",
    "\n",
    "\n",
    "#covariance matrix \n",
    "    #mean_vec = np.mean(X_std, axis=0)\n",
    "    #cov_mat = (X_std - mean_vec).T.dot((X_std - mean_vec)) / (X_std.shape[0]-1)\n",
    "    \n",
    "covariancematrix=np.cov(X_std, rowvar=False) #rowvar: each column is a variable\n",
    "# print('Covariance matrix \\n%s' %cov_mato )"
   ]
  },
  {
   "cell_type": "code",
   "execution_count": null,
   "metadata": {
    "collapsed": true
   },
   "outputs": [],
   "source": []
  },
  {
   "cell_type": "markdown",
   "metadata": {},
   "source": [
    "## 2)   The  'k' principal  components   \n",
    "###  The principale components are the eigenvectors of the respective largrest eigenvalues. So we have the find the k lagest eigenvalues and their own eigenvector. "
   ]
  },
  {
   "cell_type": "code",
   "execution_count": 121,
   "metadata": {
    "collapsed": false,
    "deletable": true,
    "editable": true
   },
   "outputs": [],
   "source": [
    "# eigenvalues / eigentvectors\n",
    "eigenValues, eigenVectors = np.linalg.eig(covariancematrix)"
   ]
  },
  {
   "cell_type": "markdown",
   "metadata": {
    "deletable": true,
    "editable": true
   },
   "source": [
    "### How big should be k ?  \n",
    "###  or in another words \"how many principal components are we going to choose for our new feature subspace?\"  =>    explained variance  :) "
   ]
  },
  {
   "cell_type": "code",
   "execution_count": 122,
   "metadata": {
    "collapsed": false,
    "deletable": true,
    "editable": true,
    "scrolled": false
   },
   "outputs": [
    {
     "data": {
      "text/html": [
       "<iframe id=\"igraph\" scrolling=\"no\" style=\"border:none;\" seamless=\"seamless\" src=\"https://plot.ly/~remitoudic/43.embed\" height=\"525px\" width=\"100%\"></iframe>"
      ],
      "text/plain": [
       "<plotly.tools.PlotlyDisplay object>"
      ]
     },
     "execution_count": 122,
     "metadata": {},
     "output_type": "execute_result"
    }
   ],
   "source": [
    "# Found : https://plot.ly/ipython-notebooks/principal-component-analysis/\n",
    "\n",
    "import plotly.plotly as py\n",
    "from plotly.graph_objs import *\n",
    "import plotly.tools as tls\n",
    "plotly.tools.set_credentials_file(username='remitoudic', api_key='aupwO29X8t2SyCOWs5y6')\n",
    "\n",
    "components_viz=30\n",
    "\n",
    "tot = sum(eigenValues)\n",
    "var_exp = [(i / tot)*100 for i in sorted(eigenValues, reverse=True)]\n",
    "cum_var_exp = np.cumsum(var_exp)\n",
    "\n",
    "\n",
    "trace1 = Bar(\n",
    "        x=['PC %s' %i for i in range(1,components_viz)],\n",
    "        y=var_exp,\n",
    "        showlegend=False)\n",
    "\n",
    "trace2 = Scatter(\n",
    "        x=['PC %s' %i for i in range(1,components_viz)], \n",
    "        y=cum_var_exp,\n",
    "        name='cumulative explained variance')\n",
    "\n",
    "data = Data([trace1, trace2])\n",
    "\n",
    "layout=Layout(\n",
    "        yaxis=YAxis(title='Explained variance in percent'),\n",
    "        title='Explained variance by different principal components')\n",
    "\n",
    "fig = Figure(data=data, layout=layout)\n",
    "py.iplot(fig)\n"
   ]
  },
  {
   "cell_type": "code",
   "execution_count": 123,
   "metadata": {
    "collapsed": true
   },
   "outputs": [],
   "source": [
    "# to be able to explain our over 70 % we need at least 25 parameters. \n",
    "# because we want to visualise the results with go for k = 2  AND because that is asked in the excercise ! "
   ]
  },
  {
   "cell_type": "code",
   "execution_count": 124,
   "metadata": {
    "collapsed": false,
    "deletable": true,
    "editable": true
   },
   "outputs": [],
   "source": [
    "k=2\n",
    "#sort eigenvalue  with their respective eigenvectors\n",
    "#get the two eigentvectors of the k largest eigentvlues\n",
    "idx = eigenValues.argsort()[-k:][::-1]\n",
    "eigenValues = eigenValues[idx]\n",
    "Main_component = eigenVectors[:,idx]\n"
   ]
  },
  {
   "cell_type": "code",
   "execution_count": 125,
   "metadata": {
    "collapsed": false,
    "deletable": true,
    "editable": true
   },
   "outputs": [],
   "source": [
    "matrix_w = np.hstack( (Main_component[:,0].reshape(dimension,1), Main_component[:,1].reshape(dimension,1)))\n",
    "#print(matrix_w.shape)\n",
    "#print('Matrix W:\\n', matrix_w)"
   ]
  },
  {
   "cell_type": "markdown",
   "metadata": {},
   "source": [
    "##  Projection Onto the New Feature Space"
   ]
  },
  {
   "cell_type": "code",
   "execution_count": 126,
   "metadata": {
    "collapsed": false,
    "deletable": true,
    "editable": true
   },
   "outputs": [
    {
     "data": {
      "text/html": [
       "<iframe id=\"igraph\" scrolling=\"no\" style=\"border:none;\" seamless=\"seamless\" src=\"https://plot.ly/~remitoudic/45.embed\" height=\"525px\" width=\"100%\"></iframe>"
      ],
      "text/plain": [
       "<plotly.tools.PlotlyDisplay object>"
      ]
     },
     "execution_count": 126,
     "metadata": {},
     "output_type": "execute_result"
    }
   ],
   "source": [
    "#Projection\n",
    "Y=X_std.dot(matrix_w)\n",
    "\n",
    "\n",
    "# Viszualisation \n",
    "traces = []\n",
    "\n",
    "for name in (0, 1, 2,3,4,5,6,7,8,9):\n",
    "\n",
    "    trace = Scatter(\n",
    "        x=Y[y==name,0],\n",
    "        y=Y[y==name,1],\n",
    "        mode='markers',\n",
    "        name=name,\n",
    "        marker=Marker(\n",
    "            size=12,\n",
    "            line=Line(\n",
    "                color='rgba(217, 217, 217, 0.14)',\n",
    "                width=0.5),\n",
    "            opacity=0.8))\n",
    "    traces.append(trace)\n",
    "\n",
    "\n",
    "data = Data(traces)\n",
    "layout = Layout(showlegend=True,\n",
    "                scene=Scene(xaxis=XAxis(title='PC1'),\n",
    "                yaxis=YAxis(title='PC2'),))\n",
    "\n",
    "fig = Figure(data=data, layout=layout)\n",
    "py.iplot(fig)"
   ]
  },
  {
   "cell_type": "code",
   "execution_count": null,
   "metadata": {
    "collapsed": true
   },
   "outputs": [],
   "source": []
  }
 ],
 "metadata": {
  "kernelspec": {
   "display_name": "Python 3",
   "language": "python",
   "name": "python3"
  },
  "language_info": {
   "codemirror_mode": {
    "name": "ipython",
    "version": 3
   },
   "file_extension": ".py",
   "mimetype": "text/x-python",
   "name": "python",
   "nbconvert_exporter": "python",
   "pygments_lexer": "ipython3",
   "version": "3.5.2"
  }
 },
 "nbformat": 4,
 "nbformat_minor": 2
}
