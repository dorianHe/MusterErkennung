{
 "cells": [
  {
   "cell_type": "code",
   "execution_count": 4,
   "metadata": {
    "collapsed": true,
    "deletable": true,
    "editable": true
   },
   "outputs": [],
   "source": [
    "import numpy as np\n",
    "import matplotlib.pyplot as plt\n",
    "import pandas as pd\n",
    "from sklearn.model_selection import train_test_split"
   ]
  },
  {
   "cell_type": "code",
   "execution_count": 5,
   "metadata": {
    "collapsed": true,
    "deletable": true,
    "editable": true
   },
   "outputs": [],
   "source": [
    "% matplotlib inline"
   ]
  },
  {
   "cell_type": "markdown",
   "metadata": {
    "deletable": true,
    "editable": true
   },
   "source": [
    "# Obtain Data"
   ]
  },
  {
   "cell_type": "code",
   "execution_count": 6,
   "metadata": {
    "collapsed": true,
    "deletable": true,
    "editable": true
   },
   "outputs": [],
   "source": [
    "filename = './spambase.data'"
   ]
  },
  {
   "cell_type": "code",
   "execution_count": 7,
   "metadata": {
    "collapsed": true,
    "deletable": true,
    "editable": true
   },
   "outputs": [],
   "source": [
    "df = pd.read_csv(filename, header=None)"
   ]
  },
  {
   "cell_type": "code",
   "execution_count": 8,
   "metadata": {
    "collapsed": false,
    "deletable": true,
    "editable": true
   },
   "outputs": [
    {
     "data": {
      "text/html": [
       "<div>\n",
       "<table border=\"1\" class=\"dataframe\">\n",
       "  <thead>\n",
       "    <tr style=\"text-align: right;\">\n",
       "      <th></th>\n",
       "      <th>0</th>\n",
       "      <th>1</th>\n",
       "      <th>2</th>\n",
       "      <th>3</th>\n",
       "      <th>4</th>\n",
       "      <th>5</th>\n",
       "      <th>6</th>\n",
       "      <th>7</th>\n",
       "      <th>8</th>\n",
       "      <th>9</th>\n",
       "      <th>...</th>\n",
       "      <th>48</th>\n",
       "      <th>49</th>\n",
       "      <th>50</th>\n",
       "      <th>51</th>\n",
       "      <th>52</th>\n",
       "      <th>53</th>\n",
       "      <th>54</th>\n",
       "      <th>55</th>\n",
       "      <th>56</th>\n",
       "      <th>57</th>\n",
       "    </tr>\n",
       "  </thead>\n",
       "  <tbody>\n",
       "    <tr>\n",
       "      <th>0</th>\n",
       "      <td>0.00</td>\n",
       "      <td>0.64</td>\n",
       "      <td>0.64</td>\n",
       "      <td>0</td>\n",
       "      <td>0.32</td>\n",
       "      <td>0.00</td>\n",
       "      <td>0.00</td>\n",
       "      <td>0.00</td>\n",
       "      <td>0.00</td>\n",
       "      <td>0.00</td>\n",
       "      <td>...</td>\n",
       "      <td>0.00</td>\n",
       "      <td>0.000</td>\n",
       "      <td>0</td>\n",
       "      <td>0.778</td>\n",
       "      <td>0.000</td>\n",
       "      <td>0.000</td>\n",
       "      <td>3.756</td>\n",
       "      <td>61</td>\n",
       "      <td>278</td>\n",
       "      <td>1</td>\n",
       "    </tr>\n",
       "    <tr>\n",
       "      <th>1</th>\n",
       "      <td>0.21</td>\n",
       "      <td>0.28</td>\n",
       "      <td>0.50</td>\n",
       "      <td>0</td>\n",
       "      <td>0.14</td>\n",
       "      <td>0.28</td>\n",
       "      <td>0.21</td>\n",
       "      <td>0.07</td>\n",
       "      <td>0.00</td>\n",
       "      <td>0.94</td>\n",
       "      <td>...</td>\n",
       "      <td>0.00</td>\n",
       "      <td>0.132</td>\n",
       "      <td>0</td>\n",
       "      <td>0.372</td>\n",
       "      <td>0.180</td>\n",
       "      <td>0.048</td>\n",
       "      <td>5.114</td>\n",
       "      <td>101</td>\n",
       "      <td>1028</td>\n",
       "      <td>1</td>\n",
       "    </tr>\n",
       "    <tr>\n",
       "      <th>2</th>\n",
       "      <td>0.06</td>\n",
       "      <td>0.00</td>\n",
       "      <td>0.71</td>\n",
       "      <td>0</td>\n",
       "      <td>1.23</td>\n",
       "      <td>0.19</td>\n",
       "      <td>0.19</td>\n",
       "      <td>0.12</td>\n",
       "      <td>0.64</td>\n",
       "      <td>0.25</td>\n",
       "      <td>...</td>\n",
       "      <td>0.01</td>\n",
       "      <td>0.143</td>\n",
       "      <td>0</td>\n",
       "      <td>0.276</td>\n",
       "      <td>0.184</td>\n",
       "      <td>0.010</td>\n",
       "      <td>9.821</td>\n",
       "      <td>485</td>\n",
       "      <td>2259</td>\n",
       "      <td>1</td>\n",
       "    </tr>\n",
       "    <tr>\n",
       "      <th>3</th>\n",
       "      <td>0.00</td>\n",
       "      <td>0.00</td>\n",
       "      <td>0.00</td>\n",
       "      <td>0</td>\n",
       "      <td>0.63</td>\n",
       "      <td>0.00</td>\n",
       "      <td>0.31</td>\n",
       "      <td>0.63</td>\n",
       "      <td>0.31</td>\n",
       "      <td>0.63</td>\n",
       "      <td>...</td>\n",
       "      <td>0.00</td>\n",
       "      <td>0.137</td>\n",
       "      <td>0</td>\n",
       "      <td>0.137</td>\n",
       "      <td>0.000</td>\n",
       "      <td>0.000</td>\n",
       "      <td>3.537</td>\n",
       "      <td>40</td>\n",
       "      <td>191</td>\n",
       "      <td>1</td>\n",
       "    </tr>\n",
       "    <tr>\n",
       "      <th>4</th>\n",
       "      <td>0.00</td>\n",
       "      <td>0.00</td>\n",
       "      <td>0.00</td>\n",
       "      <td>0</td>\n",
       "      <td>0.63</td>\n",
       "      <td>0.00</td>\n",
       "      <td>0.31</td>\n",
       "      <td>0.63</td>\n",
       "      <td>0.31</td>\n",
       "      <td>0.63</td>\n",
       "      <td>...</td>\n",
       "      <td>0.00</td>\n",
       "      <td>0.135</td>\n",
       "      <td>0</td>\n",
       "      <td>0.135</td>\n",
       "      <td>0.000</td>\n",
       "      <td>0.000</td>\n",
       "      <td>3.537</td>\n",
       "      <td>40</td>\n",
       "      <td>191</td>\n",
       "      <td>1</td>\n",
       "    </tr>\n",
       "  </tbody>\n",
       "</table>\n",
       "<p>5 rows × 58 columns</p>\n",
       "</div>"
      ],
      "text/plain": [
       "     0     1     2   3     4     5     6     7     8     9  ...    48     49  \\\n",
       "0  0.00  0.64  0.64   0  0.32  0.00  0.00  0.00  0.00  0.00 ...  0.00  0.000   \n",
       "1  0.21  0.28  0.50   0  0.14  0.28  0.21  0.07  0.00  0.94 ...  0.00  0.132   \n",
       "2  0.06  0.00  0.71   0  1.23  0.19  0.19  0.12  0.64  0.25 ...  0.01  0.143   \n",
       "3  0.00  0.00  0.00   0  0.63  0.00  0.31  0.63  0.31  0.63 ...  0.00  0.137   \n",
       "4  0.00  0.00  0.00   0  0.63  0.00  0.31  0.63  0.31  0.63 ...  0.00  0.135   \n",
       "\n",
       "   50     51     52     53     54   55    56  57  \n",
       "0   0  0.778  0.000  0.000  3.756   61   278   1  \n",
       "1   0  0.372  0.180  0.048  5.114  101  1028   1  \n",
       "2   0  0.276  0.184  0.010  9.821  485  2259   1  \n",
       "3   0  0.137  0.000  0.000  3.537   40   191   1  \n",
       "4   0  0.135  0.000  0.000  3.537   40   191   1  \n",
       "\n",
       "[5 rows x 58 columns]"
      ]
     },
     "execution_count": 8,
     "metadata": {},
     "output_type": "execute_result"
    }
   ],
   "source": [
    "df.head()"
   ]
  },
  {
   "cell_type": "code",
   "execution_count": 9,
   "metadata": {
    "collapsed": true,
    "deletable": true,
    "editable": true
   },
   "outputs": [],
   "source": [
    "X = df.drop(labels=57, axis = 1).as_matrix()\n",
    "y = df[57].as_matrix()"
   ]
  },
  {
   "cell_type": "markdown",
   "metadata": {
    "deletable": true,
    "editable": true
   },
   "source": [
    "# Normalization"
   ]
  },
  {
   "cell_type": "code",
   "execution_count": 10,
   "metadata": {
    "collapsed": false,
    "deletable": true,
    "editable": true
   },
   "outputs": [
    {
     "data": {
      "text/plain": [
       "array([[  0.00000000e+00,   6.40000000e-01,   6.40000000e-01, ...,\n",
       "          3.75600000e+00,   6.10000000e+01,   2.78000000e+02],\n",
       "       [  2.10000000e-01,   2.80000000e-01,   5.00000000e-01, ...,\n",
       "          5.11400000e+00,   1.01000000e+02,   1.02800000e+03],\n",
       "       [  6.00000000e-02,   0.00000000e+00,   7.10000000e-01, ...,\n",
       "          9.82100000e+00,   4.85000000e+02,   2.25900000e+03],\n",
       "       ..., \n",
       "       [  3.00000000e-01,   0.00000000e+00,   3.00000000e-01, ...,\n",
       "          1.40400000e+00,   6.00000000e+00,   1.18000000e+02],\n",
       "       [  9.60000000e-01,   0.00000000e+00,   0.00000000e+00, ...,\n",
       "          1.14700000e+00,   5.00000000e+00,   7.80000000e+01],\n",
       "       [  0.00000000e+00,   0.00000000e+00,   6.50000000e-01, ...,\n",
       "          1.25000000e+00,   5.00000000e+00,   4.00000000e+01]])"
      ]
     },
     "execution_count": 10,
     "metadata": {},
     "output_type": "execute_result"
    }
   ],
   "source": [
    "X"
   ]
  },
  {
   "cell_type": "code",
   "execution_count": 11,
   "metadata": {
    "collapsed": false,
    "deletable": true,
    "editable": true
   },
   "outputs": [],
   "source": [
    "X = (X - np.mean(X, axis = 0))/np.var(X, axis = 0)"
   ]
  },
  {
   "cell_type": "code",
   "execution_count": 12,
   "metadata": {
    "collapsed": false,
    "deletable": true,
    "editable": true,
    "scrolled": true
   },
   "outputs": [
    {
     "name": "stdout",
     "output_type": "stream",
     "text": [
      "(4601, 57)\n",
      "(4601,)\n"
     ]
    }
   ],
   "source": [
    "print (X.shape)\n",
    "print (y.shape)"
   ]
  },
  {
   "cell_type": "markdown",
   "metadata": {
    "deletable": true,
    "editable": true
   },
   "source": [
    "# Add bias in data"
   ]
  },
  {
   "cell_type": "code",
   "execution_count": 13,
   "metadata": {
    "collapsed": true,
    "deletable": true,
    "editable": true
   },
   "outputs": [],
   "source": [
    "X = np.insert(X,0, 1, axis = 1)"
   ]
  },
  {
   "cell_type": "code",
   "execution_count": 14,
   "metadata": {
    "collapsed": false,
    "deletable": true,
    "editable": true
   },
   "outputs": [
    {
     "data": {
      "text/plain": [
       "(4601, 58)"
      ]
     },
     "execution_count": 14,
     "metadata": {},
     "output_type": "execute_result"
    }
   ],
   "source": [
    "X.shape"
   ]
  },
  {
   "cell_type": "markdown",
   "metadata": {
    "deletable": true,
    "editable": true
   },
   "source": [
    "# Split data"
   ]
  },
  {
   "cell_type": "code",
   "execution_count": 15,
   "metadata": {
    "collapsed": true,
    "deletable": true,
    "editable": true
   },
   "outputs": [],
   "source": [
    "X_train, X_test, y_train, y_test = train_test_split(X, y, test_size = 0.2, random_state = 0)"
   ]
  },
  {
   "cell_type": "code",
   "execution_count": 22,
   "metadata": {
    "collapsed": false,
    "deletable": true,
    "editable": true,
    "scrolled": true
   },
   "outputs": [
    {
     "name": "stdout",
     "output_type": "stream",
     "text": [
      "(3680, 58)\n",
      "(921, 58)\n",
      "(3680, 1)\n",
      "(921, 1)\n"
     ]
    }
   ],
   "source": [
    "y_train = y_train.reshape((len(y_train), 1))\n",
    "y_test = y_test.reshape((len(y_test), 1))\n",
    "print (X_train.shape)\n",
    "print (X_test.shape)\n",
    "print (y_train.shape)\n",
    "print (y_test.shape)"
   ]
  },
  {
   "cell_type": "markdown",
   "metadata": {
    "deletable": true,
    "editable": true
   },
   "source": [
    "# logistic regression"
   ]
  },
  {
   "cell_type": "code",
   "execution_count": 18,
   "metadata": {
    "collapsed": true,
    "deletable": true,
    "editable": true
   },
   "outputs": [],
   "source": [
    "class logistic_classifier:\n",
    "    def __init__(self, learning_rate, num_iteration):\n",
    "        self.learning_rate = learning_rate\n",
    "        self.beta = np.random.randn(X.shape[1], 1)\n",
    "        self.num_iteration = num_iteration\n",
    "        \n",
    "    def _sigmoid_(self):\n",
    "        return 1/(1 + np.exp(-self.ax))\n",
    "    \n",
    "    def _gradient_(self, x, y):\n",
    "        gradient = ((y - self.zx)*(self._sigmoid_()*(1-self._sigmoid_()))*x).reshape(X.shape[1], 1)\n",
    "\n",
    "        return gradient\n",
    "    \n",
    "    def _update_(self, gradient):\n",
    "        #print \"shape of gradient\", gradient.shape\n",
    "        #print \"shape of beta\", self.beta.shape\n",
    "        self.beta += -1*self.learning_rate*gradient\n",
    "    \n",
    "    def _error_function(self, y):\n",
    "        loss_value = ((y - self.zx)**2)/2\n",
    "        return loss_value\n",
    "        \n",
    "    def fit(self, X, y):\n",
    "        loss_value_lst = []\n",
    "        \n",
    "        for _ in range(self.num_iteration):\n",
    "            \n",
    "            index = np.random.choice(X.shape[0])\n",
    "            \n",
    "            self.ax = X[index].dot(self.beta)\n",
    "            #print \"ax\",self.ax\n",
    "            \n",
    "            self.zx = self._sigmoid_()\n",
    "            #print \"zx\", self.zx\n",
    "            \n",
    "            loss_value = self._error_function(y[index])\n",
    "            \n",
    "            #print \"index\", index\n",
    "            #print \"X,y\",X[index],y[index]\n",
    "            #print \"loss value\", loss_value\n",
    "            \n",
    "            gradient = self._gradient_(X[index], y[index])\n",
    "            #print \"gradient\", gradient\n",
    "            \n",
    "            \n",
    "            self._update_(gradient)\n",
    "            \n",
    "            loss_value_lst.append(loss_value)\n",
    "            \n",
    "        return loss_value_lst\n",
    "    #def predict():\n",
    "        \n",
    "        \n",
    "    #def score():"
   ]
  },
  {
   "cell_type": "code",
   "execution_count": 19,
   "metadata": {
    "collapsed": true,
    "deletable": true,
    "editable": true
   },
   "outputs": [],
   "source": [
    "num = 100\n",
    "lr = 0.0001\n",
    "classifier = logistic_classifier(learning_rate=lr, num_iteration=num)"
   ]
  },
  {
   "cell_type": "code",
   "execution_count": 23,
   "metadata": {
    "collapsed": false,
    "deletable": true,
    "editable": true,
    "scrolled": false
   },
   "outputs": [
    {
     "data": {
      "text/plain": [
       "[array([  5.79191904e-13]),\n",
       " array([  3.99452828e-08]),\n",
       " array([ 0.5]),\n",
       " array([ 0.00319617]),\n",
       " array([  2.07417499e-15]),\n",
       " array([ 0.5]),\n",
       " array([ 0.49996838]),\n",
       " array([ 0.01196953]),\n",
       " array([  5.13515432e-08]),\n",
       " array([ 0.48085203]),\n",
       " array([ 0.49999727]),\n",
       " array([ 0.01767302]),\n",
       " array([  1.28212706e-07]),\n",
       " array([  2.67767494e-07]),\n",
       " array([ 0.49999987]),\n",
       " array([  1.24545348e-08]),\n",
       " array([ 0.49998565]),\n",
       " array([ 0.00057127]),\n",
       " array([ 0.5]),\n",
       " array([  5.79084358e-07]),\n",
       " array([ 0.4969091]),\n",
       " array([ 0.49956637]),\n",
       " array([ 0.000666]),\n",
       " array([ 0.5]),\n",
       " array([ 0.479637]),\n",
       " array([ 0.02593805]),\n",
       " array([ 0.45966144]),\n",
       " array([ 0.5]),\n",
       " array([ 0.5]),\n",
       " array([ 0.5]),\n",
       " array([ 0.49990934]),\n",
       " array([ 0.49627604]),\n",
       " array([  9.56177212e-08]),\n",
       " array([ 0.14437117]),\n",
       " array([  3.02496810e-22]),\n",
       " array([ 0.00259244]),\n",
       " array([ 0.49999927]),\n",
       " array([ 0.06151414]),\n",
       " array([ 0.10484284]),\n",
       " array([  1.25483264e-06]),\n",
       " array([ 0.08877624]),\n",
       " array([ 0.49401472]),\n",
       " array([ 0.48020654]),\n",
       " array([ 0.38820174]),\n",
       " array([ 0.49999501]),\n",
       " array([ 0.40837971]),\n",
       " array([ 0.49411242]),\n",
       " array([ 0.00259702]),\n",
       " array([  4.73026026e-08]),\n",
       " array([ 0.5]),\n",
       " array([  5.71686691e-06]),\n",
       " array([  2.70308932e-22]),\n",
       " array([ 0.07884454]),\n",
       " array([  2.99933589e-11]),\n",
       " array([ 0.49622185]),\n",
       " array([ 0.00259808]),\n",
       " array([ 0.12955342]),\n",
       " array([ 0.04638426]),\n",
       " array([ 0.01020324]),\n",
       " array([ 0.49999984]),\n",
       " array([ 0.09516968]),\n",
       " array([  7.85948550e-07]),\n",
       " array([ 0.49999803]),\n",
       " array([ 0.0026115]),\n",
       " array([  2.56152934e-15]),\n",
       " array([ 0.00995084]),\n",
       " array([  9.40530713e-46]),\n",
       " array([ 0.5]),\n",
       " array([  1.51729496e-07]),\n",
       " array([ 0.48073569]),\n",
       " array([ 0.49998004]),\n",
       " array([  1.05957141e-11]),\n",
       " array([ 0.49998192]),\n",
       " array([  4.85344429e-08]),\n",
       " array([ 0.00328263]),\n",
       " array([ 0.49928458]),\n",
       " array([  1.55806062e-05]),\n",
       " array([ 0.49952205]),\n",
       " array([ 0.49999201]),\n",
       " array([ 0.03593815]),\n",
       " array([ 0.49724421]),\n",
       " array([  3.40825993e-43]),\n",
       " array([ 0.5]),\n",
       " array([  2.96205729e-16]),\n",
       " array([ 0.00310449]),\n",
       " array([ 0.27732664]),\n",
       " array([ 0.5]),\n",
       " array([ 0.4998452]),\n",
       " array([ 0.48859564]),\n",
       " array([ 0.49996874]),\n",
       " array([ 0.49325826]),\n",
       " array([ 0.00031886]),\n",
       " array([ 0.49924558]),\n",
       " array([ 0.49922027]),\n",
       " array([ 0.04875259]),\n",
       " array([ 0.00259726]),\n",
       " array([ 0.00259733]),\n",
       " array([ 0.49758904]),\n",
       " array([ 0.00081142]),\n",
       " array([  6.03065771e-08])]"
      ]
     },
     "execution_count": 23,
     "metadata": {},
     "output_type": "execute_result"
    }
   ],
   "source": [
    "loss_values = classifier.fit(X_train, y_train)\n",
    "loss_values"
   ]
  },
  {
   "cell_type": "code",
   "execution_count": 21,
   "metadata": {
    "collapsed": false,
    "deletable": true,
    "editable": true
   },
   "outputs": [
    {
     "data": {
      "text/plain": [
       "[<matplotlib.lines.Line2D at 0x7f56ce05fe80>]"
      ]
     },
     "execution_count": 21,
     "metadata": {},
     "output_type": "execute_result"
    },
    {
     "data": {
      "image/png": "[encoded data removed]",
      "text/plain": [
       "<matplotlib.figure.Figure at 0x7f56ce4d00f0>"
      ]
     },
     "metadata": {},
     "output_type": "display_data"
    }
   ],
   "source": [
    "plt.figure(figsize=(10,10))\n",
    "plt.plot(range(num), loss_values)"
   ]
  },
  {
   "cell_type": "code",
   "execution_count": null,
   "metadata": {
    "collapsed": true,
    "deletable": true,
    "editable": true
   },
   "outputs": [],
   "source": []
  }
 ],
 "metadata": {
  "kernelspec": {
   "display_name": "Python 3",
   "language": "python",
   "name": "python3"
  },
  "language_info": {
   "codemirror_mode": {
    "name": "ipython",
    "version": 3
   },
   "file_extension": ".py",
   "mimetype": "text/x-python",
   "name": "python",
   "nbconvert_exporter": "python",
   "pygments_lexer": "ipython3",
   "version": "3.5.2"
  }
 },
 "nbformat": 4,
 "nbformat_minor": 2
}
