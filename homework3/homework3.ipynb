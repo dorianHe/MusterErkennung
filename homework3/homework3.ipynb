{
 "cells": [
  {
   "cell_type": "code",
   "execution_count": 66,
   "metadata": {},
   "outputs": [],
   "source": [
    "import numpy as np"
   ]
  },
  {
   "cell_type": "code",
   "execution_count": 67,
   "metadata": {},
   "outputs": [],
   "source": [
    "# function to load the data and preprocess the data\n",
    "def read_preprocess(filename):\n",
    "    f = open(filename)\n",
    "    raw_data = f.readlines()\n",
    "    \n",
    "    point_lst = []\n",
    "    for ele in raw_data:\n",
    "        point = []\n",
    "        for value in ele.split():\n",
    "            point.append(float(value))\n",
    "        point_lst.append(point)\n",
    "        \n",
    "    return np.array(point_lst)"
   ]
  },
  {
   "cell_type": "code",
   "execution_count": 68,
   "metadata": {},
   "outputs": [],
   "source": [
    "filename = './zip.train'\n",
    "training_array = read_preprocess(filename)"
   ]
  },
  {
   "cell_type": "code",
   "execution_count": 69,
   "metadata": {},
   "outputs": [],
   "source": [
    "filename = './zip.test'\n",
    "testing_array = read_preprocess(filename)"
   ]
  },
  {
   "cell_type": "code",
   "execution_count": 70,
   "metadata": {},
   "outputs": [],
   "source": [
    "train_digit_three = training_array[:,0] - 3 == 0\n",
    "train_digit_five = training_array[:,0] - 5 == 0\n",
    "train_digit_seven = training_array[:,0] - 7 == 0\n",
    "train_digit_eight = training_array[:,0] - 8 == 0"
   ]
  },
  {
   "cell_type": "code",
   "execution_count": 71,
   "metadata": {},
   "outputs": [],
   "source": [
    "train_dict = {3:train_digit_three, 5:train_digit_five, 7:train_digit_seven, 8:train_digit_eight}"
   ]
  },
  {
   "cell_type": "code",
   "execution_count": 72,
   "metadata": {},
   "outputs": [],
   "source": [
    "test_digit_three = testing_array[:,0] - 3 == 0\n",
    "test_digit_five = testing_array[:,0] - 5 == 0\n",
    "test_digit_seven = testing_array[:,0] - 7 == 0\n",
    "test_digit_eight = testing_array[:,0] - 8 == 0"
   ]
  },
  {
   "cell_type": "code",
   "execution_count": 73,
   "metadata": {},
   "outputs": [],
   "source": [
    "test_dict = {3:test_digit_three, 5:test_digit_five, 7:test_digit_seven, 8:test_digit_eight}"
   ]
  },
  {
   "cell_type": "code",
   "execution_count": 74,
   "metadata": {},
   "outputs": [],
   "source": [
    "def gen_trainset(digit_one, digit_two, train):\n",
    "    digit_one_array = train[train_dict[digit_one]]\n",
    "    digit_two_array = train[train_dict[digit_two]]\n",
    "    train_set = np.concatenate((digit_one_array, digit_two_array), axis = 0)\n",
    "    X = train_set[:,1:]\n",
    "    Y = train_set[:,0]\n",
    "   \n",
    "    num_data = X.shape[0]\n",
    "    bias = np.ones((num_data,1))\n",
    "    X = np.concatenate((bias, X), axis = 1)\n",
    "\n",
    "    return X, Y\n",
    "\n",
    "\n",
    "def gen_testset(digit_one, digit_two, test):\n",
    "    digit_one_array = test[test_dict[digit_one]]\n",
    "    digit_two_array = test[test_dict[digit_two]]\n",
    "    test_set = np.concatenate((digit_one_array, digit_two_array), axis = 0)  \n",
    "    X = test_set[:,1:]\n",
    "    Y = test_set[:,0]\n",
    "    num_data = X.shape[0]\n",
    "    bias = np.ones((num_data,1))\n",
    "    X = np.concatenate((bias, X), axis = 1)   \n",
    "    \n",
    "    return X,Y\n"
   ]
  },
  {
   "cell_type": "markdown",
   "metadata": {},
   "source": [
    "# Gaussian classifier"
   ]
  },
  {
   "cell_type": "code",
   "execution_count": 79,
   "metadata": {},
   "outputs": [],
   "source": [
    "class gaussian_classifier:\n",
    "    def fit(self, X, y):\n",
    "        \n",
    "        self.class_one = np.unique(y)[0]\n",
    "        self.class_two = np.unique(y)[1]\n",
    "        \n",
    "        class_one_X = (X[y==self.class_one])\n",
    "        class_two_X = (X[y==self.class_two])\n",
    "        \n",
    "        self.convariance1 = np.cov(class_one_X, rowvar = False)\n",
    "        self.convariance2 = np.cov(class_two_X, rowvar = False)\n",
    "                \n",
    "        self.mean1 = np.mean(class_one_X, axis = 0)\n",
    "        self.mean2 = np.mean(class_two_X, axis = 0)\n",
    "        \n",
    "    def predict_one(self, x):\n",
    "        factor1 = 1.0/ np.sqrt(np.linalg.norm(2*np.pi*self.convariance1))\n",
    "        factor2 = 1.0/ np.sqrt(np.linalg.norm(2*np.pi*self.convariance2))\n",
    "        \n",
    "        index1 = -1/2 * np.dot(np.dot(x - self.mean1,np.linalg.pinv(self.convariance1)), (x - self.mean1).T)\n",
    "        index2 = -1/2 * np.dot(np.dot(x - self.mean2,np.linalg.pinv(self.convariance2)), (x - self.mean2).T)\n",
    "        \n",
    "        #print (index1)\n",
    "        #print (index2)\n",
    "        \n",
    "        #print (factor1*np.exp(index1))\n",
    "        #print (factor2*np.exp(index2))\n",
    "        \n",
    "        prob1 = factor1*np.exp(index1)\n",
    "        prob2 = factor2*np.exp(index2)\n",
    "        \n",
    "        if prob1 >= prob2:\n",
    "            return self.class_one\n",
    "        else:\n",
    "            return self.class_two\n",
    "        #print (index1.shape)\n",
    "        #print (index2.shape)\n",
    "        #print (X.shape)\n",
    "        #print (self.mean1.shape)\n",
    "        #print ((X - self.mean1).shape)\n",
    "        #print (self.convariance1.shape)\n",
    "        #print (np.linalg.pinv(self.convariance1)).shape\n",
    "        #print (np.dot(np.linalg.inv(X - self.mean1),np.linalg.inv(self.convariance1)))"
   ]
  },
  {
   "cell_type": "markdown",
   "metadata": {},
   "source": [
    "# digit 3,5"
   ]
  },
  {
   "cell_type": "code",
   "execution_count": 85,
   "metadata": {},
   "outputs": [],
   "source": [
    "X_train, Y_train = gen_trainset(3,5, training_array)\n",
    "X_test, Y_test = gen_testset(3,5, testing_array)"
   ]
  },
  {
   "cell_type": "code",
   "execution_count": 86,
   "metadata": {},
   "outputs": [],
   "source": [
    "gc = gaussian_classifier()"
   ]
  },
  {
   "cell_type": "code",
   "execution_count": 87,
   "metadata": {},
   "outputs": [],
   "source": [
    "gc.fit(X_train, Y_train)"
   ]
  },
  {
   "cell_type": "code",
   "execution_count": 88,
   "metadata": {},
   "outputs": [],
   "source": [
    "result = []\n",
    "for data_point in X_test:\n",
    "    result.append(gc.predict_one(data_point))"
   ]
  },
  {
   "cell_type": "code",
   "execution_count": 89,
   "metadata": {},
   "outputs": [
    {
     "data": {
      "text/plain": [
       "(326, 257)"
      ]
     },
     "execution_count": 89,
     "metadata": {},
     "output_type": "execute_result"
    }
   ],
   "source": [
    "X_test.shape"
   ]
  },
  {
   "cell_type": "code",
   "execution_count": 90,
   "metadata": {
    "scrolled": true
   },
   "outputs": [
    {
     "data": {
      "text/plain": [
       "0.92331288343558282"
      ]
     },
     "execution_count": 90,
     "metadata": {},
     "output_type": "execute_result"
    }
   ],
   "source": [
    "sum(np.array(result) - Y_test == 0)/len(X_test)"
   ]
  },
  {
   "cell_type": "markdown",
   "metadata": {},
   "source": [
    "# digit 3,7"
   ]
  },
  {
   "cell_type": "code",
   "execution_count": 94,
   "metadata": {},
   "outputs": [
    {
     "data": {
      "text/plain": [
       "0.92971246006389774"
      ]
     },
     "execution_count": 94,
     "metadata": {},
     "output_type": "execute_result"
    }
   ],
   "source": [
    "X_train, Y_train = gen_trainset(3, 7, training_array)\n",
    "X_test, Y_test = gen_testset(3,7 ,testing_array)\n",
    "gc = gaussian_classifier()\n",
    "gc.fit(X_train, Y_train)\n",
    "result = []\n",
    "for data_point in X_test:\n",
    "    result.append(gc.predict_one(data_point))\n",
    "sum(np.array(result) - Y_test == 0)/len(X_test)"
   ]
  },
  {
   "cell_type": "markdown",
   "metadata": {},
   "source": [
    "# digit 3, 8"
   ]
  },
  {
   "cell_type": "code",
   "execution_count": 95,
   "metadata": {},
   "outputs": [
    {
     "data": {
      "text/plain": [
       "0.84337349397590367"
      ]
     },
     "execution_count": 95,
     "metadata": {},
     "output_type": "execute_result"
    }
   ],
   "source": [
    "X_train, Y_train = gen_trainset(3, 8, training_array)\n",
    "X_test, Y_test = gen_testset(3,8 ,testing_array)\n",
    "gc = gaussian_classifier()\n",
    "gc.fit(X_train, Y_train)\n",
    "result = []\n",
    "for data_point in X_test:\n",
    "    result.append(gc.predict_one(data_point))\n",
    "sum(np.array(result) - Y_test == 0)/len(X_test)"
   ]
  },
  {
   "cell_type": "markdown",
   "metadata": {},
   "source": [
    "# digit 5,7"
   ]
  },
  {
   "cell_type": "code",
   "execution_count": 96,
   "metadata": {},
   "outputs": [
    {
     "data": {
      "text/plain": [
       "0.9315960912052117"
      ]
     },
     "execution_count": 96,
     "metadata": {},
     "output_type": "execute_result"
    }
   ],
   "source": [
    "X_train, Y_train = gen_trainset(5, 7, training_array)\n",
    "X_test, Y_test = gen_testset(5, 7,testing_array)\n",
    "gc = gaussian_classifier()\n",
    "gc.fit(X_train, Y_train)\n",
    "result = []\n",
    "for data_point in X_test:\n",
    "    result.append(gc.predict_one(data_point))\n",
    "sum(np.array(result) - Y_test == 0)/len(X_test)"
   ]
  },
  {
   "cell_type": "markdown",
   "metadata": {},
   "source": [
    "# digit 5, 8"
   ]
  },
  {
   "cell_type": "code",
   "execution_count": 97,
   "metadata": {},
   "outputs": [
    {
     "data": {
      "text/plain": [
       "0.87423312883435578"
      ]
     },
     "execution_count": 97,
     "metadata": {},
     "output_type": "execute_result"
    }
   ],
   "source": [
    "X_train, Y_train = gen_trainset(5, 8, training_array)\n",
    "X_test, Y_test = gen_testset(5, 8,testing_array)\n",
    "gc = gaussian_classifier()\n",
    "gc.fit(X_train, Y_train)\n",
    "result = []\n",
    "for data_point in X_test:\n",
    "    result.append(gc.predict_one(data_point))\n",
    "sum(np.array(result) - Y_test == 0)/len(X_test)"
   ]
  },
  {
   "cell_type": "markdown",
   "metadata": {},
   "source": [
    "# digit 7, 8"
   ]
  },
  {
   "cell_type": "code",
   "execution_count": 98,
   "metadata": {},
   "outputs": [
    {
     "data": {
      "text/plain": [
       "0.83706070287539935"
      ]
     },
     "execution_count": 98,
     "metadata": {},
     "output_type": "execute_result"
    }
   ],
   "source": [
    "X_train, Y_train = gen_trainset(7, 8, training_array)\n",
    "X_test, Y_test = gen_testset(7, 8,testing_array)\n",
    "gc = gaussian_classifier()\n",
    "gc.fit(X_train, Y_train)\n",
    "result = []\n",
    "for data_point in X_test:\n",
    "    result.append(gc.predict_one(data_point))\n",
    "sum(np.array(result) - Y_test == 0)/len(X_test)"
   ]
  },
  {
   "cell_type": "code",
   "execution_count": null,
   "metadata": {},
   "outputs": [],
   "source": []
  }
 ],
 "metadata": {
  "kernelspec": {
   "display_name": "Python 3",
   "language": "python",
   "name": "python3"
  },
  "language_info": {
   "codemirror_mode": {
    "name": "ipython",
    "version": 3
   },
   "file_extension": ".py",
   "mimetype": "text/x-python",
   "name": "python",
   "nbconvert_exporter": "python",
   "pygments_lexer": "ipython3",
   "version": "3.5.2"
  }
 },
 "nbformat": 4,
 "nbformat_minor": 2
}
