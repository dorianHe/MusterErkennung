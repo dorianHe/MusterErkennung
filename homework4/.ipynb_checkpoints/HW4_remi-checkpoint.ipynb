{
 "cells": [
  {
   "cell_type": "code",
   "execution_count": 4,
   "metadata": {
    "collapsed": false,
    "deletable": true,
    "editable": true
   },
   "outputs": [
    {
     "name": "stdout",
     "output_type": "stream",
     "text": [
      "OK\n"
     ]
    }
   ],
   "source": [
    "import pandas as pd \n",
    "import numpy as np\n",
    "from sklearn.model_selection import train_test_split\n",
    "\n",
    "data_link = 'https://archive.ics.uci.edu/ml/machine-learning-databases/spambase/spambase.data'\n",
    "\n",
    "\n",
    "def preprocessing(url_data): \n",
    "    #read data ,convert to numpy \n",
    "    data = pd.read_csv(data_link,header=None)\n",
    "    \n",
    "    X = data.drop(labels=57, axis = 1).as_matrix()\n",
    "    y = data[57].as_matrix()\n",
    "    \n",
    "    \n",
    "    # train set / test set \n",
    "    X_train, X_test, y_train, y_test = train_test_split(X, y, test_size = 0.2)   \n",
    "        \n",
    "    return X_train, X_test, y_train, y_test\n",
    "\n",
    "\n",
    "X_train, X_test, y_train, y_test=preprocessing(data_link)\n",
    "print('OK')"
   ]
  },
  {
   "cell_type": "code",
   "execution_count": 7,
   "metadata": {
    "collapsed": false,
    "deletable": true,
    "editable": true
   },
   "outputs": [
    {
     "data": {
      "text/plain": [
       "(3680, 1)"
      ]
     },
     "execution_count": 7,
     "metadata": {},
     "output_type": "execute_result"
    }
   ],
   "source": [
    "#1  find the best projection vector (formuala from lecture ( alpha) )\n",
    "\n",
    "def fisher_criterion(X,y): \n",
    "    email= np.unique(y)[0]\n",
    "    spam = np.unique(y)[1]\n",
    "\n",
    "    class1 = X[y == email]\n",
    "    class2 = X[y == spam]\n",
    "\n",
    "    #covariance matrices\n",
    "    sigma1= np.cov(class1, rowvar = False)\n",
    "    sigma2= np.cov(class2, rowvar = False)\n",
    "\n",
    "    #projected mean\n",
    "    mu1=np.mean(class1,axis=0) \n",
    "    mu2= np.mean(class2,axis=0)\n",
    "    \n",
    "    #Fischer vector\n",
    "    alpha = np.linalg.pinv(sigma1+sigma2).dot(mu1 - mu2)\n",
    "    \n",
    "    pmu1 = alpha.dot(mu1)\n",
    "    pmu2 = alpha.dot(mu2)\n",
    "    \n",
    "    pvar1 = (alpha.T.dot(sigma1)).dot(alpha)\n",
    "    pvar2 = (alpha.T.dot(sigma2)).dot(alpha)\n",
    "    \n",
    "    return alpha,sigma1,sigma2,pmu1,pmu2,pvar1,pvar2\n",
    "\n",
    "\n",
    "\n",
    "def Fischer_classifier (X, alpha,pmu1,pmu2,pvar1,pvar2):\n",
    "    \n",
    "    # compute projection of the data point on alpha for both class(scalar multiplicaton this alpha)\n",
    "    pX = X.dot(alpha)\n",
    "    \n",
    "    #3  compute probabilty density of the data point projected  for both class \n",
    "    prob1 = np.exp(-1/2*((pX-pmu1)/pvar1)**2)/pvar1*np.sqrt(2*np.pi)\n",
    "    prob2 = np.exp(-1/2*((pX-pmu2)/pvar2)**2)/pvar2*np.sqrt(2*np.pi)\n",
    "\n",
    "    results = np.zeros((X.shape[0],1))\n",
    "    results[prob1 - prob2 > 0] = 1\n",
    "    results[prob1 - prob2 <= 0] = 0\n",
    "    return results\n",
    "\n",
    "ALPHA,sigma1,sigma2,pmu1,pmu2,pvar1,pvar2 = fisher_criterion(X_train,y_train)\n",
    "classifier= Fischer_classifier( X_train, ALPHA,pmu1,pmu2,pvar1,pvar2)\n",
    "classifier.shape\n",
    "\n",
    "\n"
   ]
  },
  {
   "cell_type": "code",
   "execution_count": 64,
   "metadata": {
    "collapsed": false,
    "deletable": true,
    "editable": true
   },
   "outputs": [
    {
     "name": "stdout",
     "output_type": "stream",
     "text": [
      "(57,)\n"
     ]
    }
   ],
   "source": [
    "print(ALPHA.shape)"
   ]
  },
  {
   "cell_type": "code",
   "execution_count": 6,
   "metadata": {
    "collapsed": false,
    "deletable": true,
    "editable": true
   },
   "outputs": [
    {
     "name": "stdout",
     "output_type": "stream",
     "text": [
      "[  2.29613793   8.96174138  22.91141379 ...,  19.77268966   3.3445\n",
      "   1.35017241]\n"
     ]
    }
   ],
   "source": [
    " "
   ]
  },
  {
   "cell_type": "code",
   "execution_count": null,
   "metadata": {
    "collapsed": true,
    "deletable": true,
    "editable": true
   },
   "outputs": [],
   "source": []
  }
 ],
 "metadata": {
  "kernelspec": {
   "display_name": "Python 3",
   "language": "python",
   "name": "python3"
  },
  "language_info": {
   "codemirror_mode": {
    "name": "ipython",
    "version": 3
   },
   "file_extension": ".py",
   "mimetype": "text/x-python",
   "name": "python",
   "nbconvert_exporter": "python",
   "pygments_lexer": "ipython3",
   "version": "3.5.2"
  }
 },
 "nbformat": 4,
 "nbformat_minor": 2
}
