{
 "cells": [
  {
   "cell_type": "code",
   "execution_count": 3,
   "metadata": {
    "collapsed": false,
    "deletable": true,
    "editable": true
   },
   "outputs": [],
   "source": [
    "import pandas as pd \n",
    "import numpy as np\n",
    "data_link= '/home/remi/Schreibtisch/2d-em.csv' \n",
    "data = pd.read_csv(data_link,header=None).values\n"
   ]
  },
  {
   "cell_type": "code",
   "execution_count": 22,
   "metadata": {
    "collapsed": false,
    "deletable": true,
    "editable": true
   },
   "outputs": [
    {
     "name": "stdout",
     "output_type": "stream",
     "text": [
      "[[-2.95646613 -0.90217386]\n",
      " [-1.69723708 -2.56572773]\n",
      " [ 4.59045423  5.65248112]]\n",
      "ok\n"
     ]
    }
   ],
   "source": [
    "# init\n",
    "#parameters\n",
    "nb_center= 3\n",
    "\n",
    "rand_row=np.random.rand(nb_center)* data.shape[0]\n",
    "test=  list(map(int,rand_row))\n",
    "centers_list= data[test,:]\n",
    "print(centers_list)"
   ]
  },
  {
   "cell_type": "code",
   "execution_count": 39,
   "metadata": {
    "collapsed": false,
    "deletable": true,
    "editable": true
   },
   "outputs": [
    {
     "data": {
      "text/plain": [
       "4.6188021535170058"
      ]
     },
     "execution_count": 39,
     "metadata": {},
     "output_type": "execute_result"
    }
   ],
   "source": [
    "# mahalanobis distance\n",
    "#https://de.wikipedia.org/wiki/Mahalanobis-Distanz\n",
    "\n",
    "def mahalanobis_dist(V1,V2,cov):\n",
    "    V1=  np.array(V1)\n",
    "    V2 =np.array(V2)\n",
    "    distance= (np.transpose(V1-V2)) @ np.linalg.pinv(cov) @ (V1-V2)\n",
    "    distance= np.sqrt(distance)\n",
    "    return distance\n",
    "\n",
    "#test\n",
    "x=[1,2,3]\n",
    "y=[1,6,3]\n",
    "cov_test= np.cov(np.identity(3))\n",
    "\n",
    "\n",
    "mahalanobis_dist(x,y,cov_test)\n",
    "\n",
    "\n"
   ]
  },
  {
   "cell_type": "code",
   "execution_count": 42,
   "metadata": {
    "collapsed": false,
    "deletable": true,
    "editable": true
   },
   "outputs": [
    {
     "ename": "SyntaxError",
     "evalue": "invalid syntax (<ipython-input-42-39a1099680b8>, line 6)",
     "output_type": "error",
     "traceback": [
      "\u001b[0;36m  File \u001b[0;32m\"<ipython-input-42-39a1099680b8>\"\u001b[0;36m, line \u001b[0;32m6\u001b[0m\n\u001b[0;31m    for point in data_points\u001b[0m\n\u001b[0m                            ^\u001b[0m\n\u001b[0;31mSyntaxError\u001b[0m\u001b[0;31m:\u001b[0m invalid syntax\n"
     ]
    }
   ],
   "source": [
    "# K-mean routine \n",
    "\n",
    "def k_mean_routine (centers, data_points): \n",
    "     \n",
    "        for center_id in range (centers.shape[0])\n",
    "            Zentrum= centers[center_id,:]\n",
    "            \n",
    "            for point in data_points:\n",
    "            point=data[1,:]\n",
    "            center\n",
    "              map (mahalanobis_dist(x,y,cov_test),  covariance_matrix )    \n"
   ]
  },
  {
   "cell_type": "code",
   "execution_count": 43,
   "metadata": {
    "collapsed": false,
    "deletable": true,
    "editable": true
   },
   "outputs": [
    {
     "data": {
      "text/plain": [
       "array([ 4.00736258,  3.71590642])"
      ]
     },
     "execution_count": 43,
     "metadata": {},
     "output_type": "execute_result"
    }
   ],
   "source": [
    "data[1,:]"
   ]
  },
  {
   "cell_type": "code",
   "execution_count": null,
   "metadata": {
    "collapsed": true
   },
   "outputs": [],
   "source": []
  }
 ],
 "metadata": {
  "kernelspec": {
   "display_name": "Python 3",
   "language": "python",
   "name": "python3"
  },
  "language_info": {
   "codemirror_mode": {
    "name": "ipython",
    "version": 3
   },
   "file_extension": ".py",
   "mimetype": "text/x-python",
   "name": "python",
   "nbconvert_exporter": "python",
   "pygments_lexer": "ipython3",
   "version": "3.5.2"
  }
 },
 "nbformat": 4,
 "nbformat_minor": 2
}
